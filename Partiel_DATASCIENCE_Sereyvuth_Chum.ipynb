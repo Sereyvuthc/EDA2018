{
 "cells": [
  {
   "cell_type": "markdown",
   "metadata": {},
   "source": [
    "# Datascience\n",
    "\n",
    "Vous êtes datascientist chez [**Kickstarter**](https://www.kickstarter.com/), une plate-forme de _crowdfunding_. Vous souhaitez prédire la réussite ou non d'un projet . Avant de créer votre classifieur, vous entreprenez de faire une analyse préparatoire des données (EDA) pour avoir une meilleure intuition sur ces dernières.\n",
    "\n",
    "Vous avez accès à toutes les ressources que vous souhaitez (cheatsheet, internet, etc.). N'hésitez pas à en faire _bon usage_.\n",
    "\n",
    "Pensez à bien organiser votre notebook, à annoter vos graphiques et à les commenter judicieusement. Parmis les critères de notation :\n",
    "- savoir charger un dataset,\n",
    "- analyse des valeurs manquantes et dupliquées,\n",
    "- analyse des outliers,\n",
    "- analyse univariée,\n",
    "- analyse multivariée,\n",
    "- ainsi que toute analyse qui vous semble judicieuse pour prédire le succès d’un projet Kickstarter.\n",
    "\n",
    "## Rendu\n",
    "\n",
    "Vous rendrez votre Jupyter Notebook via [**Github**](https://github.com/). Pour cela créez un nouveau dépôt (repository) nommé `EDA2018` et uploadez le notebook **seul** sur ce dépôt. Ensuite, envoyez le lien dans un mail aux adresses suivantes :\n",
    "\n",
    "- `alain.demenet@gmail.com`\n",
    "- `florent.pietot@gmail.com`\n",
    "\n",
    "Ajoutez en **pièce jointe** votre **notebook zippé** (afin d'avoir une double sauvegarde de votre travail et pour éviter tout problème éventuel).\n",
    "\n",
    "## Description du dataset\n",
    "\n",
    "Le dataset `dataset.csv` est un instantané du site en janvier 2018 :\n",
    "\n",
    "Colonne | Description\n",
    "------- | -------\n",
    "**ID** | internal kickstarter id\n",
    "**name** | name of project - a project is a finite work with a clear goal that you’d like to bring to life. Think albums, books, or films\n",
    "**category** | category\n",
    "**main_category** | category of campaign\n",
    "**currency** | currency used to support\n",
    "**deadline** | deadline for crowdfunding\n",
    "**goal** | fundraising goal - the funding goal is the amount of money that a creator needs to complete their project\n",
    "**launched** | date launched\n",
    "**pledged** | pledged amount in the project currency\n",
    "**state** | current condition the project is in\n",
    "**backers** | number of backers\n",
    "**country** | country pledged from\n",
    "**usd pledged** | amount of money pledged in USD (conversion made by Kickstarter)\n",
    "**usd_pledged_real** | amount of money pledged in USD (conversion made by fixer.io api)\n",
    "**usd_goal_real** | goal amount in USD (conversion made by fixer.io api)\n",
    "\n",
    "**Bon courage !**\n"
   ]
  },
  {
   "cell_type": "code",
   "execution_count": 1,
   "metadata": {},
   "outputs": [],
   "source": [
    "import pandas as pd\n",
    "import numpy as np\n",
    "import matplotlib.pyplot as plt\n",
    "import seaborn as sns\n",
    "%matplotlib inline"
   ]
  },
  {
   "cell_type": "code",
   "execution_count": 2,
   "metadata": {},
   "outputs": [],
   "source": [
    "import warnings\n",
    "warnings.filterwarnings('ignore')\n",
    "#Cette ligne de code permet d'enlever tout les warnings "
   ]
  },
  {
   "cell_type": "markdown",
   "metadata": {},
   "source": []
  },
  {
   "cell_type": "markdown",
   "metadata": {},
   "source": [
    "## Affichage du dataframe"
   ]
  },
  {
   "cell_type": "code",
   "execution_count": 3,
   "metadata": {},
   "outputs": [
    {
     "data": {
      "text/html": [
       "<div>\n",
       "<style scoped>\n",
       "    .dataframe tbody tr th:only-of-type {\n",
       "        vertical-align: middle;\n",
       "    }\n",
       "\n",
       "    .dataframe tbody tr th {\n",
       "        vertical-align: top;\n",
       "    }\n",
       "\n",
       "    .dataframe thead th {\n",
       "        text-align: right;\n",
       "    }\n",
       "</style>\n",
       "<table border=\"1\" class=\"dataframe\">\n",
       "  <thead>\n",
       "    <tr style=\"text-align: right;\">\n",
       "      <th></th>\n",
       "      <th>name</th>\n",
       "      <th>category</th>\n",
       "      <th>main_category</th>\n",
       "      <th>currency</th>\n",
       "      <th>deadline</th>\n",
       "      <th>goal</th>\n",
       "      <th>launched</th>\n",
       "      <th>pledged</th>\n",
       "      <th>state</th>\n",
       "      <th>backers</th>\n",
       "      <th>country</th>\n",
       "      <th>usd pledged</th>\n",
       "      <th>usd_pledged_real</th>\n",
       "      <th>usd_goal_real</th>\n",
       "    </tr>\n",
       "    <tr>\n",
       "      <th>ID</th>\n",
       "      <th></th>\n",
       "      <th></th>\n",
       "      <th></th>\n",
       "      <th></th>\n",
       "      <th></th>\n",
       "      <th></th>\n",
       "      <th></th>\n",
       "      <th></th>\n",
       "      <th></th>\n",
       "      <th></th>\n",
       "      <th></th>\n",
       "      <th></th>\n",
       "      <th></th>\n",
       "      <th></th>\n",
       "    </tr>\n",
       "  </thead>\n",
       "  <tbody>\n",
       "    <tr>\n",
       "      <th>1000002330</th>\n",
       "      <td>The Songs of Adelaide &amp; Abullah</td>\n",
       "      <td>Poetry</td>\n",
       "      <td>Publishing</td>\n",
       "      <td>GBP</td>\n",
       "      <td>2015-10-09</td>\n",
       "      <td>1000.0</td>\n",
       "      <td>2015-08-11 12:12:28</td>\n",
       "      <td>0.00</td>\n",
       "      <td>failed</td>\n",
       "      <td>0</td>\n",
       "      <td>GB</td>\n",
       "      <td>0.00</td>\n",
       "      <td>0.00</td>\n",
       "      <td>1533.95</td>\n",
       "    </tr>\n",
       "    <tr>\n",
       "      <th>1000003930</th>\n",
       "      <td>Greeting From Earth: ZGAC Arts Capsule For ET</td>\n",
       "      <td>Narrative Film</td>\n",
       "      <td>Film &amp; Video</td>\n",
       "      <td>USD</td>\n",
       "      <td>2017-11-01</td>\n",
       "      <td>30000.0</td>\n",
       "      <td>2017-09-02 04:43:57</td>\n",
       "      <td>2421.00</td>\n",
       "      <td>failed</td>\n",
       "      <td>15</td>\n",
       "      <td>US</td>\n",
       "      <td>100.00</td>\n",
       "      <td>2421.00</td>\n",
       "      <td>30000.00</td>\n",
       "    </tr>\n",
       "    <tr>\n",
       "      <th>1000004038</th>\n",
       "      <td>Where is Hank?</td>\n",
       "      <td>Narrative Film</td>\n",
       "      <td>Film &amp; Video</td>\n",
       "      <td>USD</td>\n",
       "      <td>2013-02-26</td>\n",
       "      <td>45000.0</td>\n",
       "      <td>2013-01-12 00:20:50</td>\n",
       "      <td>220.00</td>\n",
       "      <td>failed</td>\n",
       "      <td>3</td>\n",
       "      <td>US</td>\n",
       "      <td>220.00</td>\n",
       "      <td>220.00</td>\n",
       "      <td>45000.00</td>\n",
       "    </tr>\n",
       "    <tr>\n",
       "      <th>1000007540</th>\n",
       "      <td>ToshiCapital Rekordz Needs Help to Complete Album</td>\n",
       "      <td>Music</td>\n",
       "      <td>Music</td>\n",
       "      <td>USD</td>\n",
       "      <td>2012-04-16</td>\n",
       "      <td>5000.0</td>\n",
       "      <td>2012-03-17 03:24:11</td>\n",
       "      <td>1.00</td>\n",
       "      <td>failed</td>\n",
       "      <td>1</td>\n",
       "      <td>US</td>\n",
       "      <td>1.00</td>\n",
       "      <td>1.00</td>\n",
       "      <td>5000.00</td>\n",
       "    </tr>\n",
       "    <tr>\n",
       "      <th>1000011046</th>\n",
       "      <td>Community Film Project: The Art of Neighborhoo...</td>\n",
       "      <td>Film &amp; Video</td>\n",
       "      <td>Film &amp; Video</td>\n",
       "      <td>USD</td>\n",
       "      <td>2015-08-29</td>\n",
       "      <td>19500.0</td>\n",
       "      <td>2015-07-04 08:35:03</td>\n",
       "      <td>1283.00</td>\n",
       "      <td>canceled</td>\n",
       "      <td>14</td>\n",
       "      <td>US</td>\n",
       "      <td>1283.00</td>\n",
       "      <td>1283.00</td>\n",
       "      <td>19500.00</td>\n",
       "    </tr>\n",
       "    <tr>\n",
       "      <th>1000014025</th>\n",
       "      <td>Monarch Espresso Bar</td>\n",
       "      <td>Restaurants</td>\n",
       "      <td>Food</td>\n",
       "      <td>USD</td>\n",
       "      <td>2016-04-01</td>\n",
       "      <td>50000.0</td>\n",
       "      <td>2016-02-26 13:38:27</td>\n",
       "      <td>52375.00</td>\n",
       "      <td>successful</td>\n",
       "      <td>224</td>\n",
       "      <td>US</td>\n",
       "      <td>52375.00</td>\n",
       "      <td>52375.00</td>\n",
       "      <td>50000.00</td>\n",
       "    </tr>\n",
       "    <tr>\n",
       "      <th>1000023410</th>\n",
       "      <td>Support Solar Roasted Coffee &amp; Green Energy!  ...</td>\n",
       "      <td>Food</td>\n",
       "      <td>Food</td>\n",
       "      <td>USD</td>\n",
       "      <td>2014-12-21</td>\n",
       "      <td>1000.0</td>\n",
       "      <td>2014-12-01 18:30:44</td>\n",
       "      <td>1205.00</td>\n",
       "      <td>successful</td>\n",
       "      <td>16</td>\n",
       "      <td>US</td>\n",
       "      <td>1205.00</td>\n",
       "      <td>1205.00</td>\n",
       "      <td>1000.00</td>\n",
       "    </tr>\n",
       "    <tr>\n",
       "      <th>1000030581</th>\n",
       "      <td>Chaser Strips. Our Strips make Shots their B*tch!</td>\n",
       "      <td>Drinks</td>\n",
       "      <td>Food</td>\n",
       "      <td>USD</td>\n",
       "      <td>2016-03-17</td>\n",
       "      <td>25000.0</td>\n",
       "      <td>2016-02-01 20:05:12</td>\n",
       "      <td>453.00</td>\n",
       "      <td>failed</td>\n",
       "      <td>40</td>\n",
       "      <td>US</td>\n",
       "      <td>453.00</td>\n",
       "      <td>453.00</td>\n",
       "      <td>25000.00</td>\n",
       "    </tr>\n",
       "    <tr>\n",
       "      <th>1000034518</th>\n",
       "      <td>SPIN - Premium Retractable In-Ear Headphones w...</td>\n",
       "      <td>Product Design</td>\n",
       "      <td>Design</td>\n",
       "      <td>USD</td>\n",
       "      <td>2014-05-29</td>\n",
       "      <td>125000.0</td>\n",
       "      <td>2014-04-24 18:14:43</td>\n",
       "      <td>8233.00</td>\n",
       "      <td>canceled</td>\n",
       "      <td>58</td>\n",
       "      <td>US</td>\n",
       "      <td>8233.00</td>\n",
       "      <td>8233.00</td>\n",
       "      <td>125000.00</td>\n",
       "    </tr>\n",
       "    <tr>\n",
       "      <th>100004195</th>\n",
       "      <td>STUDIO IN THE SKY - A Documentary Feature Film...</td>\n",
       "      <td>Documentary</td>\n",
       "      <td>Film &amp; Video</td>\n",
       "      <td>USD</td>\n",
       "      <td>2014-08-10</td>\n",
       "      <td>65000.0</td>\n",
       "      <td>2014-07-11 21:55:48</td>\n",
       "      <td>6240.57</td>\n",
       "      <td>canceled</td>\n",
       "      <td>43</td>\n",
       "      <td>US</td>\n",
       "      <td>6240.57</td>\n",
       "      <td>6240.57</td>\n",
       "      <td>65000.00</td>\n",
       "    </tr>\n",
       "    <tr>\n",
       "      <th>100004721</th>\n",
       "      <td>Of Jesus and Madmen</td>\n",
       "      <td>Nonfiction</td>\n",
       "      <td>Publishing</td>\n",
       "      <td>CAD</td>\n",
       "      <td>2013-10-09</td>\n",
       "      <td>2500.0</td>\n",
       "      <td>2013-09-09 18:19:37</td>\n",
       "      <td>0.00</td>\n",
       "      <td>failed</td>\n",
       "      <td>0</td>\n",
       "      <td>CA</td>\n",
       "      <td>0.00</td>\n",
       "      <td>0.00</td>\n",
       "      <td>2406.39</td>\n",
       "    </tr>\n",
       "    <tr>\n",
       "      <th>100005484</th>\n",
       "      <td>Lisa Lim New CD!</td>\n",
       "      <td>Indie Rock</td>\n",
       "      <td>Music</td>\n",
       "      <td>USD</td>\n",
       "      <td>2013-04-08</td>\n",
       "      <td>12500.0</td>\n",
       "      <td>2013-03-09 06:42:58</td>\n",
       "      <td>12700.00</td>\n",
       "      <td>successful</td>\n",
       "      <td>100</td>\n",
       "      <td>US</td>\n",
       "      <td>12700.00</td>\n",
       "      <td>12700.00</td>\n",
       "      <td>12500.00</td>\n",
       "    </tr>\n",
       "    <tr>\n",
       "      <th>1000055792</th>\n",
       "      <td>The Cottage Market</td>\n",
       "      <td>Crafts</td>\n",
       "      <td>Crafts</td>\n",
       "      <td>USD</td>\n",
       "      <td>2014-10-02</td>\n",
       "      <td>5000.0</td>\n",
       "      <td>2014-09-02 17:11:50</td>\n",
       "      <td>0.00</td>\n",
       "      <td>failed</td>\n",
       "      <td>0</td>\n",
       "      <td>US</td>\n",
       "      <td>0.00</td>\n",
       "      <td>0.00</td>\n",
       "      <td>5000.00</td>\n",
       "    </tr>\n",
       "    <tr>\n",
       "      <th>1000056157</th>\n",
       "      <td>G-Spot Place for Gamers to connect with eachot...</td>\n",
       "      <td>Games</td>\n",
       "      <td>Games</td>\n",
       "      <td>USD</td>\n",
       "      <td>2016-03-25</td>\n",
       "      <td>200000.0</td>\n",
       "      <td>2016-02-09 23:01:12</td>\n",
       "      <td>0.00</td>\n",
       "      <td>failed</td>\n",
       "      <td>0</td>\n",
       "      <td>US</td>\n",
       "      <td>0.00</td>\n",
       "      <td>0.00</td>\n",
       "      <td>200000.00</td>\n",
       "    </tr>\n",
       "    <tr>\n",
       "      <th>1000057089</th>\n",
       "      <td>Tombstone: Old West tabletop game and miniatur...</td>\n",
       "      <td>Tabletop Games</td>\n",
       "      <td>Games</td>\n",
       "      <td>GBP</td>\n",
       "      <td>2017-05-03</td>\n",
       "      <td>5000.0</td>\n",
       "      <td>2017-04-05 19:44:18</td>\n",
       "      <td>94175.00</td>\n",
       "      <td>successful</td>\n",
       "      <td>761</td>\n",
       "      <td>GB</td>\n",
       "      <td>57763.78</td>\n",
       "      <td>121857.33</td>\n",
       "      <td>6469.73</td>\n",
       "    </tr>\n",
       "    <tr>\n",
       "      <th>1000064368</th>\n",
       "      <td>Survival Rings</td>\n",
       "      <td>Design</td>\n",
       "      <td>Design</td>\n",
       "      <td>USD</td>\n",
       "      <td>2015-02-28</td>\n",
       "      <td>2500.0</td>\n",
       "      <td>2015-01-29 02:10:53</td>\n",
       "      <td>664.00</td>\n",
       "      <td>failed</td>\n",
       "      <td>11</td>\n",
       "      <td>US</td>\n",
       "      <td>664.00</td>\n",
       "      <td>664.00</td>\n",
       "      <td>2500.00</td>\n",
       "    </tr>\n",
       "    <tr>\n",
       "      <th>1000064918</th>\n",
       "      <td>The Beard</td>\n",
       "      <td>Comic Books</td>\n",
       "      <td>Comics</td>\n",
       "      <td>USD</td>\n",
       "      <td>2014-11-08</td>\n",
       "      <td>1500.0</td>\n",
       "      <td>2014-10-09 22:27:52</td>\n",
       "      <td>395.00</td>\n",
       "      <td>failed</td>\n",
       "      <td>16</td>\n",
       "      <td>US</td>\n",
       "      <td>395.00</td>\n",
       "      <td>395.00</td>\n",
       "      <td>1500.00</td>\n",
       "    </tr>\n",
       "    <tr>\n",
       "      <th>1000068480</th>\n",
       "      <td>Notes From London: Above &amp; Below</td>\n",
       "      <td>Art Books</td>\n",
       "      <td>Publishing</td>\n",
       "      <td>USD</td>\n",
       "      <td>2015-05-10</td>\n",
       "      <td>3000.0</td>\n",
       "      <td>2015-04-10 21:20:54</td>\n",
       "      <td>789.00</td>\n",
       "      <td>failed</td>\n",
       "      <td>20</td>\n",
       "      <td>US</td>\n",
       "      <td>789.00</td>\n",
       "      <td>789.00</td>\n",
       "      <td>3000.00</td>\n",
       "    </tr>\n",
       "    <tr>\n",
       "      <th>1000070642</th>\n",
       "      <td>Mike Corey's Darkness &amp; Light Album</td>\n",
       "      <td>Music</td>\n",
       "      <td>Music</td>\n",
       "      <td>USD</td>\n",
       "      <td>2012-08-17</td>\n",
       "      <td>250.0</td>\n",
       "      <td>2012-08-02 14:11:32</td>\n",
       "      <td>250.00</td>\n",
       "      <td>successful</td>\n",
       "      <td>7</td>\n",
       "      <td>US</td>\n",
       "      <td>250.00</td>\n",
       "      <td>250.00</td>\n",
       "      <td>250.00</td>\n",
       "    </tr>\n",
       "    <tr>\n",
       "      <th>1000071625</th>\n",
       "      <td>Boco Tea</td>\n",
       "      <td>Food</td>\n",
       "      <td>Food</td>\n",
       "      <td>USD</td>\n",
       "      <td>2012-06-02</td>\n",
       "      <td>5000.0</td>\n",
       "      <td>2012-05-03 17:24:32</td>\n",
       "      <td>1781.00</td>\n",
       "      <td>failed</td>\n",
       "      <td>40</td>\n",
       "      <td>US</td>\n",
       "      <td>1781.00</td>\n",
       "      <td>1781.00</td>\n",
       "      <td>5000.00</td>\n",
       "    </tr>\n",
       "    <tr>\n",
       "      <th>1000072011</th>\n",
       "      <td>CMUK. Shoes: Take on Life Feet First.</td>\n",
       "      <td>Fashion</td>\n",
       "      <td>Fashion</td>\n",
       "      <td>USD</td>\n",
       "      <td>2013-12-30</td>\n",
       "      <td>20000.0</td>\n",
       "      <td>2013-11-25 07:06:11</td>\n",
       "      <td>34268.00</td>\n",
       "      <td>successful</td>\n",
       "      <td>624</td>\n",
       "      <td>US</td>\n",
       "      <td>34268.00</td>\n",
       "      <td>34268.00</td>\n",
       "      <td>20000.00</td>\n",
       "    </tr>\n",
       "    <tr>\n",
       "      <th>1000081649</th>\n",
       "      <td>MikeyJ clothing brand fundraiser</td>\n",
       "      <td>Childrenswear</td>\n",
       "      <td>Fashion</td>\n",
       "      <td>AUD</td>\n",
       "      <td>2017-09-07</td>\n",
       "      <td>2500.0</td>\n",
       "      <td>2017-08-08 01:20:20</td>\n",
       "      <td>1.00</td>\n",
       "      <td>failed</td>\n",
       "      <td>1</td>\n",
       "      <td>AU</td>\n",
       "      <td>0.00</td>\n",
       "      <td>0.81</td>\n",
       "      <td>2026.10</td>\n",
       "    </tr>\n",
       "    <tr>\n",
       "      <th>1000082254</th>\n",
       "      <td>Alice in Wonderland in G Minor</td>\n",
       "      <td>Theater</td>\n",
       "      <td>Theater</td>\n",
       "      <td>USD</td>\n",
       "      <td>2014-06-15</td>\n",
       "      <td>3500.0</td>\n",
       "      <td>2014-05-16 10:10:38</td>\n",
       "      <td>650.00</td>\n",
       "      <td>failed</td>\n",
       "      <td>12</td>\n",
       "      <td>US</td>\n",
       "      <td>650.00</td>\n",
       "      <td>650.00</td>\n",
       "      <td>3500.00</td>\n",
       "    </tr>\n",
       "    <tr>\n",
       "      <th>1000087442</th>\n",
       "      <td>Mountain brew: A quest for alcohol sustainability</td>\n",
       "      <td>Drinks</td>\n",
       "      <td>Food</td>\n",
       "      <td>NOK</td>\n",
       "      <td>2015-02-25</td>\n",
       "      <td>500.0</td>\n",
       "      <td>2015-01-26 19:17:33</td>\n",
       "      <td>48.00</td>\n",
       "      <td>failed</td>\n",
       "      <td>3</td>\n",
       "      <td>NO</td>\n",
       "      <td>6.18</td>\n",
       "      <td>6.29</td>\n",
       "      <td>65.55</td>\n",
       "    </tr>\n",
       "    <tr>\n",
       "      <th>1000091520</th>\n",
       "      <td>The Book Zoo - A Mini-Comic</td>\n",
       "      <td>Comics</td>\n",
       "      <td>Comics</td>\n",
       "      <td>USD</td>\n",
       "      <td>2014-11-12</td>\n",
       "      <td>175.0</td>\n",
       "      <td>2014-10-23 17:15:50</td>\n",
       "      <td>701.66</td>\n",
       "      <td>successful</td>\n",
       "      <td>66</td>\n",
       "      <td>US</td>\n",
       "      <td>701.66</td>\n",
       "      <td>701.66</td>\n",
       "      <td>175.00</td>\n",
       "    </tr>\n",
       "    <tr>\n",
       "      <th>1000102741</th>\n",
       "      <td>Matt Cavenaugh &amp; Jenny Powers make their 1st a...</td>\n",
       "      <td>Music</td>\n",
       "      <td>Music</td>\n",
       "      <td>USD</td>\n",
       "      <td>2011-01-06</td>\n",
       "      <td>10000.0</td>\n",
       "      <td>2010-12-07 23:16:50</td>\n",
       "      <td>15827.00</td>\n",
       "      <td>successful</td>\n",
       "      <td>147</td>\n",
       "      <td>US</td>\n",
       "      <td>15827.00</td>\n",
       "      <td>15827.00</td>\n",
       "      <td>10000.00</td>\n",
       "    </tr>\n",
       "    <tr>\n",
       "      <th>1000103948</th>\n",
       "      <td>Superhero Teddy Bear</td>\n",
       "      <td>DIY</td>\n",
       "      <td>Crafts</td>\n",
       "      <td>GBP</td>\n",
       "      <td>2016-01-05</td>\n",
       "      <td>12000.0</td>\n",
       "      <td>2015-12-06 20:09:06</td>\n",
       "      <td>0.00</td>\n",
       "      <td>failed</td>\n",
       "      <td>0</td>\n",
       "      <td>GB</td>\n",
       "      <td>0.00</td>\n",
       "      <td>0.00</td>\n",
       "      <td>17489.65</td>\n",
       "    </tr>\n",
       "    <tr>\n",
       "      <th>1000104688</th>\n",
       "      <td>Permaculture Skills</td>\n",
       "      <td>Webseries</td>\n",
       "      <td>Film &amp; Video</td>\n",
       "      <td>CAD</td>\n",
       "      <td>2014-12-14</td>\n",
       "      <td>17757.0</td>\n",
       "      <td>2014-11-14 18:02:00</td>\n",
       "      <td>48905.00</td>\n",
       "      <td>successful</td>\n",
       "      <td>571</td>\n",
       "      <td>CA</td>\n",
       "      <td>43203.25</td>\n",
       "      <td>42174.03</td>\n",
       "      <td>15313.04</td>\n",
       "    </tr>\n",
       "    <tr>\n",
       "      <th>1000104953</th>\n",
       "      <td>Rebel Army Origins: The Heroic Story Of Major ...</td>\n",
       "      <td>Comics</td>\n",
       "      <td>Comics</td>\n",
       "      <td>GBP</td>\n",
       "      <td>2016-01-28</td>\n",
       "      <td>100.0</td>\n",
       "      <td>2015-12-29 16:59:29</td>\n",
       "      <td>112.38</td>\n",
       "      <td>successful</td>\n",
       "      <td>27</td>\n",
       "      <td>GB</td>\n",
       "      <td>167.70</td>\n",
       "      <td>160.60</td>\n",
       "      <td>142.91</td>\n",
       "    </tr>\n",
       "    <tr>\n",
       "      <th>100011318</th>\n",
       "      <td>My Moon - Animated Short Film</td>\n",
       "      <td>Animation</td>\n",
       "      <td>Film &amp; Video</td>\n",
       "      <td>USD</td>\n",
       "      <td>2017-05-03</td>\n",
       "      <td>50000.0</td>\n",
       "      <td>2017-04-03 17:11:33</td>\n",
       "      <td>57577.31</td>\n",
       "      <td>successful</td>\n",
       "      <td>840</td>\n",
       "      <td>US</td>\n",
       "      <td>10120.00</td>\n",
       "      <td>57577.31</td>\n",
       "      <td>50000.00</td>\n",
       "    </tr>\n",
       "    <tr>\n",
       "      <th>...</th>\n",
       "      <td>...</td>\n",
       "      <td>...</td>\n",
       "      <td>...</td>\n",
       "      <td>...</td>\n",
       "      <td>...</td>\n",
       "      <td>...</td>\n",
       "      <td>...</td>\n",
       "      <td>...</td>\n",
       "      <td>...</td>\n",
       "      <td>...</td>\n",
       "      <td>...</td>\n",
       "      <td>...</td>\n",
       "      <td>...</td>\n",
       "      <td>...</td>\n",
       "    </tr>\n",
       "    <tr>\n",
       "      <th>999832803</th>\n",
       "      <td>MONSTROCARDS- A Creative Drawing Game of Horri...</td>\n",
       "      <td>Playing Cards</td>\n",
       "      <td>Games</td>\n",
       "      <td>USD</td>\n",
       "      <td>2014-10-03</td>\n",
       "      <td>10000.0</td>\n",
       "      <td>2014-09-03 19:53:50</td>\n",
       "      <td>13861.50</td>\n",
       "      <td>successful</td>\n",
       "      <td>413</td>\n",
       "      <td>US</td>\n",
       "      <td>13861.50</td>\n",
       "      <td>13861.50</td>\n",
       "      <td>10000.00</td>\n",
       "    </tr>\n",
       "    <tr>\n",
       "      <th>99984851</th>\n",
       "      <td>\"Loreto\"</td>\n",
       "      <td>Comedy</td>\n",
       "      <td>Film &amp; Video</td>\n",
       "      <td>USD</td>\n",
       "      <td>2014-06-05</td>\n",
       "      <td>12000.0</td>\n",
       "      <td>2014-05-06 23:50:34</td>\n",
       "      <td>0.00</td>\n",
       "      <td>failed</td>\n",
       "      <td>0</td>\n",
       "      <td>US</td>\n",
       "      <td>0.00</td>\n",
       "      <td>0.00</td>\n",
       "      <td>12000.00</td>\n",
       "    </tr>\n",
       "    <tr>\n",
       "      <th>999865831</th>\n",
       "      <td>STATE OF G - Men's Blazer Jacket &amp; Women's Car...</td>\n",
       "      <td>Apparel</td>\n",
       "      <td>Fashion</td>\n",
       "      <td>USD</td>\n",
       "      <td>2014-12-13</td>\n",
       "      <td>25000.0</td>\n",
       "      <td>2014-11-13 17:16:17</td>\n",
       "      <td>11643.00</td>\n",
       "      <td>failed</td>\n",
       "      <td>97</td>\n",
       "      <td>US</td>\n",
       "      <td>11643.00</td>\n",
       "      <td>11643.00</td>\n",
       "      <td>25000.00</td>\n",
       "    </tr>\n",
       "    <tr>\n",
       "      <th>999867839</th>\n",
       "      <td>Transcaucasia</td>\n",
       "      <td>Photography</td>\n",
       "      <td>Photography</td>\n",
       "      <td>USD</td>\n",
       "      <td>2011-01-08</td>\n",
       "      <td>4000.0</td>\n",
       "      <td>2010-11-08 02:43:59</td>\n",
       "      <td>3531.00</td>\n",
       "      <td>failed</td>\n",
       "      <td>37</td>\n",
       "      <td>US</td>\n",
       "      <td>3531.00</td>\n",
       "      <td>3531.00</td>\n",
       "      <td>4000.00</td>\n",
       "    </tr>\n",
       "    <tr>\n",
       "      <th>99987261</th>\n",
       "      <td>You're Not Cis, You Just Think You Are: My Enb...</td>\n",
       "      <td>Nonfiction</td>\n",
       "      <td>Publishing</td>\n",
       "      <td>USD</td>\n",
       "      <td>2015-09-24</td>\n",
       "      <td>800.0</td>\n",
       "      <td>2015-08-25 22:37:14</td>\n",
       "      <td>70.00</td>\n",
       "      <td>failed</td>\n",
       "      <td>5</td>\n",
       "      <td>US</td>\n",
       "      <td>70.00</td>\n",
       "      <td>70.00</td>\n",
       "      <td>800.00</td>\n",
       "    </tr>\n",
       "    <tr>\n",
       "      <th>999877902</th>\n",
       "      <td>Little Saturday's Debut Album</td>\n",
       "      <td>Country &amp; Folk</td>\n",
       "      <td>Music</td>\n",
       "      <td>CAD</td>\n",
       "      <td>2014-12-17</td>\n",
       "      <td>5000.0</td>\n",
       "      <td>2014-11-17 17:50:12</td>\n",
       "      <td>5435.00</td>\n",
       "      <td>successful</td>\n",
       "      <td>78</td>\n",
       "      <td>CA</td>\n",
       "      <td>4814.88</td>\n",
       "      <td>4686.96</td>\n",
       "      <td>4311.83</td>\n",
       "    </tr>\n",
       "    <tr>\n",
       "      <th>999878813</th>\n",
       "      <td>Ways to Look at the Moon</td>\n",
       "      <td>Shorts</td>\n",
       "      <td>Film &amp; Video</td>\n",
       "      <td>USD</td>\n",
       "      <td>2017-10-13</td>\n",
       "      <td>10000.0</td>\n",
       "      <td>2017-08-29 06:57:28</td>\n",
       "      <td>10245.00</td>\n",
       "      <td>successful</td>\n",
       "      <td>123</td>\n",
       "      <td>US</td>\n",
       "      <td>145.00</td>\n",
       "      <td>10245.00</td>\n",
       "      <td>10000.00</td>\n",
       "    </tr>\n",
       "    <tr>\n",
       "      <th>999880710</th>\n",
       "      <td>Terminal Uniqueness</td>\n",
       "      <td>Nonfiction</td>\n",
       "      <td>Publishing</td>\n",
       "      <td>USD</td>\n",
       "      <td>2014-08-15</td>\n",
       "      <td>5000.0</td>\n",
       "      <td>2014-07-15 02:10:39</td>\n",
       "      <td>18.00</td>\n",
       "      <td>failed</td>\n",
       "      <td>5</td>\n",
       "      <td>US</td>\n",
       "      <td>18.00</td>\n",
       "      <td>18.00</td>\n",
       "      <td>5000.00</td>\n",
       "    </tr>\n",
       "    <tr>\n",
       "      <th>999884445</th>\n",
       "      <td>Superette Tea - Boldly Caffeinated Loose Leaf Tea</td>\n",
       "      <td>Drinks</td>\n",
       "      <td>Food</td>\n",
       "      <td>USD</td>\n",
       "      <td>2015-12-03</td>\n",
       "      <td>5000.0</td>\n",
       "      <td>2015-11-03 13:04:14</td>\n",
       "      <td>5579.00</td>\n",
       "      <td>successful</td>\n",
       "      <td>103</td>\n",
       "      <td>US</td>\n",
       "      <td>5579.00</td>\n",
       "      <td>5579.00</td>\n",
       "      <td>5000.00</td>\n",
       "    </tr>\n",
       "    <tr>\n",
       "      <th>999893629</th>\n",
       "      <td>Ciridian Helix (Canceled)</td>\n",
       "      <td>Fiction</td>\n",
       "      <td>Publishing</td>\n",
       "      <td>USD</td>\n",
       "      <td>2014-09-11</td>\n",
       "      <td>1000.0</td>\n",
       "      <td>2014-08-08 21:49:31</td>\n",
       "      <td>100.00</td>\n",
       "      <td>canceled</td>\n",
       "      <td>2</td>\n",
       "      <td>US</td>\n",
       "      <td>100.00</td>\n",
       "      <td>100.00</td>\n",
       "      <td>1000.00</td>\n",
       "    </tr>\n",
       "    <tr>\n",
       "      <th>99991751</th>\n",
       "      <td>Here is the oasis for the youngest in the world.</td>\n",
       "      <td>Product Design</td>\n",
       "      <td>Design</td>\n",
       "      <td>CHF</td>\n",
       "      <td>2015-09-04</td>\n",
       "      <td>80000.0</td>\n",
       "      <td>2015-07-06 18:00:47</td>\n",
       "      <td>0.00</td>\n",
       "      <td>failed</td>\n",
       "      <td>0</td>\n",
       "      <td>CH</td>\n",
       "      <td>0.00</td>\n",
       "      <td>0.00</td>\n",
       "      <td>82207.27</td>\n",
       "    </tr>\n",
       "    <tr>\n",
       "      <th>999929142</th>\n",
       "      <td>ÉPOUVANTAILS : 28mm Figurines de jeux pour KIN...</td>\n",
       "      <td>Tabletop Games</td>\n",
       "      <td>Games</td>\n",
       "      <td>EUR</td>\n",
       "      <td>2017-10-31</td>\n",
       "      <td>1000.0</td>\n",
       "      <td>2017-10-04 11:26:44</td>\n",
       "      <td>1246.00</td>\n",
       "      <td>successful</td>\n",
       "      <td>35</td>\n",
       "      <td>FR</td>\n",
       "      <td>66.72</td>\n",
       "      <td>1452.47</td>\n",
       "      <td>1165.70</td>\n",
       "    </tr>\n",
       "    <tr>\n",
       "      <th>999931480</th>\n",
       "      <td>Google Glass Shield (Canceled)</td>\n",
       "      <td>3D Printing</td>\n",
       "      <td>Technology</td>\n",
       "      <td>USD</td>\n",
       "      <td>2014-05-26</td>\n",
       "      <td>6500.0</td>\n",
       "      <td>2014-05-05 20:22:45</td>\n",
       "      <td>0.00</td>\n",
       "      <td>canceled</td>\n",
       "      <td>0</td>\n",
       "      <td>US</td>\n",
       "      <td>0.00</td>\n",
       "      <td>0.00</td>\n",
       "      <td>6500.00</td>\n",
       "    </tr>\n",
       "    <tr>\n",
       "      <th>999934908</th>\n",
       "      <td>The Manual Bar Blade</td>\n",
       "      <td>Product Design</td>\n",
       "      <td>Design</td>\n",
       "      <td>USD</td>\n",
       "      <td>2015-12-15</td>\n",
       "      <td>3500.0</td>\n",
       "      <td>2015-11-23 07:33:14</td>\n",
       "      <td>6169.00</td>\n",
       "      <td>successful</td>\n",
       "      <td>120</td>\n",
       "      <td>US</td>\n",
       "      <td>6169.00</td>\n",
       "      <td>6169.00</td>\n",
       "      <td>3500.00</td>\n",
       "    </tr>\n",
       "    <tr>\n",
       "      <th>999941823</th>\n",
       "      <td>The Chronicles of Erinoth - A Graphic Novel</td>\n",
       "      <td>Comics</td>\n",
       "      <td>Comics</td>\n",
       "      <td>GBP</td>\n",
       "      <td>2013-10-10</td>\n",
       "      <td>16000.0</td>\n",
       "      <td>2013-09-10 22:45:26</td>\n",
       "      <td>2738.00</td>\n",
       "      <td>failed</td>\n",
       "      <td>38</td>\n",
       "      <td>GB</td>\n",
       "      <td>4281.15</td>\n",
       "      <td>4374.99</td>\n",
       "      <td>25566.05</td>\n",
       "    </tr>\n",
       "    <tr>\n",
       "      <th>999943841</th>\n",
       "      <td>The Dog Coffee Book</td>\n",
       "      <td>Children's Books</td>\n",
       "      <td>Publishing</td>\n",
       "      <td>USD</td>\n",
       "      <td>2013-11-30</td>\n",
       "      <td>950.0</td>\n",
       "      <td>2013-10-18 21:35:04</td>\n",
       "      <td>1732.02</td>\n",
       "      <td>successful</td>\n",
       "      <td>31</td>\n",
       "      <td>US</td>\n",
       "      <td>1732.02</td>\n",
       "      <td>1732.02</td>\n",
       "      <td>950.00</td>\n",
       "    </tr>\n",
       "    <tr>\n",
       "      <th>999950812</th>\n",
       "      <td>The Cease is Increase</td>\n",
       "      <td>Nonfiction</td>\n",
       "      <td>Publishing</td>\n",
       "      <td>USD</td>\n",
       "      <td>2012-09-14</td>\n",
       "      <td>4999.0</td>\n",
       "      <td>2012-08-15 17:11:00</td>\n",
       "      <td>980.00</td>\n",
       "      <td>failed</td>\n",
       "      <td>16</td>\n",
       "      <td>US</td>\n",
       "      <td>980.00</td>\n",
       "      <td>980.00</td>\n",
       "      <td>4999.00</td>\n",
       "    </tr>\n",
       "    <tr>\n",
       "      <th>999955533</th>\n",
       "      <td>Cards and Chit Network Season 2! (Canceled)</td>\n",
       "      <td>Tabletop Games</td>\n",
       "      <td>Games</td>\n",
       "      <td>USD</td>\n",
       "      <td>2016-02-23</td>\n",
       "      <td>500.0</td>\n",
       "      <td>2016-01-24 16:03:27</td>\n",
       "      <td>121.00</td>\n",
       "      <td>canceled</td>\n",
       "      <td>5</td>\n",
       "      <td>US</td>\n",
       "      <td>121.00</td>\n",
       "      <td>121.00</td>\n",
       "      <td>500.00</td>\n",
       "    </tr>\n",
       "    <tr>\n",
       "      <th>999963618</th>\n",
       "      <td>Colorado International Activism Film Festival</td>\n",
       "      <td>Narrative Film</td>\n",
       "      <td>Film &amp; Video</td>\n",
       "      <td>USD</td>\n",
       "      <td>2017-04-09</td>\n",
       "      <td>500.0</td>\n",
       "      <td>2017-02-08 02:28:44</td>\n",
       "      <td>135.00</td>\n",
       "      <td>failed</td>\n",
       "      <td>6</td>\n",
       "      <td>US</td>\n",
       "      <td>45.00</td>\n",
       "      <td>135.00</td>\n",
       "      <td>500.00</td>\n",
       "    </tr>\n",
       "    <tr>\n",
       "      <th>99996661</th>\n",
       "      <td>Date Seat - Boston iOS App</td>\n",
       "      <td>Apps</td>\n",
       "      <td>Technology</td>\n",
       "      <td>USD</td>\n",
       "      <td>2016-09-05</td>\n",
       "      <td>6000.0</td>\n",
       "      <td>2016-07-29 15:36:29</td>\n",
       "      <td>0.00</td>\n",
       "      <td>failed</td>\n",
       "      <td>0</td>\n",
       "      <td>US</td>\n",
       "      <td>0.00</td>\n",
       "      <td>0.00</td>\n",
       "      <td>6000.00</td>\n",
       "    </tr>\n",
       "    <tr>\n",
       "      <th>999969812</th>\n",
       "      <td>AT THE BEACH</td>\n",
       "      <td>Classical Music</td>\n",
       "      <td>Music</td>\n",
       "      <td>CAD</td>\n",
       "      <td>2014-03-22</td>\n",
       "      <td>5000.0</td>\n",
       "      <td>2014-02-20 01:00:16</td>\n",
       "      <td>5501.00</td>\n",
       "      <td>successful</td>\n",
       "      <td>78</td>\n",
       "      <td>CA</td>\n",
       "      <td>5019.92</td>\n",
       "      <td>4983.69</td>\n",
       "      <td>4529.81</td>\n",
       "    </tr>\n",
       "    <tr>\n",
       "      <th>999971898</th>\n",
       "      <td>Beach Wrestling Documentary</td>\n",
       "      <td>Documentary</td>\n",
       "      <td>Film &amp; Video</td>\n",
       "      <td>NOK</td>\n",
       "      <td>2015-04-28</td>\n",
       "      <td>20000.0</td>\n",
       "      <td>2015-03-29 21:30:33</td>\n",
       "      <td>21500.00</td>\n",
       "      <td>successful</td>\n",
       "      <td>36</td>\n",
       "      <td>NO</td>\n",
       "      <td>2698.97</td>\n",
       "      <td>2875.83</td>\n",
       "      <td>2675.19</td>\n",
       "    </tr>\n",
       "    <tr>\n",
       "      <th>999972264</th>\n",
       "      <td>Islanda</td>\n",
       "      <td>Documentary</td>\n",
       "      <td>Film &amp; Video</td>\n",
       "      <td>USD</td>\n",
       "      <td>2012-03-16</td>\n",
       "      <td>1700.0</td>\n",
       "      <td>2012-02-15 04:31:10</td>\n",
       "      <td>25.00</td>\n",
       "      <td>failed</td>\n",
       "      <td>1</td>\n",
       "      <td>US</td>\n",
       "      <td>25.00</td>\n",
       "      <td>25.00</td>\n",
       "      <td>1700.00</td>\n",
       "    </tr>\n",
       "    <tr>\n",
       "      <th>999975836</th>\n",
       "      <td>Homemade fresh dog food, Cleveland OH</td>\n",
       "      <td>Small Batch</td>\n",
       "      <td>Food</td>\n",
       "      <td>USD</td>\n",
       "      <td>2017-04-19</td>\n",
       "      <td>6500.0</td>\n",
       "      <td>2017-03-20 22:08:22</td>\n",
       "      <td>154.00</td>\n",
       "      <td>failed</td>\n",
       "      <td>4</td>\n",
       "      <td>US</td>\n",
       "      <td>0.00</td>\n",
       "      <td>154.00</td>\n",
       "      <td>6500.00</td>\n",
       "    </tr>\n",
       "    <tr>\n",
       "      <th>999976312</th>\n",
       "      <td>Angela's Poetry (Canceled)</td>\n",
       "      <td>Poetry</td>\n",
       "      <td>Publishing</td>\n",
       "      <td>CAD</td>\n",
       "      <td>2014-09-20</td>\n",
       "      <td>5500.0</td>\n",
       "      <td>2014-08-06 03:46:07</td>\n",
       "      <td>0.00</td>\n",
       "      <td>canceled</td>\n",
       "      <td>0</td>\n",
       "      <td>CA</td>\n",
       "      <td>0.00</td>\n",
       "      <td>0.00</td>\n",
       "      <td>4949.60</td>\n",
       "    </tr>\n",
       "    <tr>\n",
       "      <th>999976400</th>\n",
       "      <td>ChknTruk Nationwide Charity Drive 2014 (Canceled)</td>\n",
       "      <td>Documentary</td>\n",
       "      <td>Film &amp; Video</td>\n",
       "      <td>USD</td>\n",
       "      <td>2014-10-17</td>\n",
       "      <td>50000.0</td>\n",
       "      <td>2014-09-17 02:35:30</td>\n",
       "      <td>25.00</td>\n",
       "      <td>canceled</td>\n",
       "      <td>1</td>\n",
       "      <td>US</td>\n",
       "      <td>25.00</td>\n",
       "      <td>25.00</td>\n",
       "      <td>50000.00</td>\n",
       "    </tr>\n",
       "    <tr>\n",
       "      <th>999977640</th>\n",
       "      <td>The Tribe</td>\n",
       "      <td>Narrative Film</td>\n",
       "      <td>Film &amp; Video</td>\n",
       "      <td>USD</td>\n",
       "      <td>2011-07-19</td>\n",
       "      <td>1500.0</td>\n",
       "      <td>2011-06-22 03:35:14</td>\n",
       "      <td>155.00</td>\n",
       "      <td>failed</td>\n",
       "      <td>5</td>\n",
       "      <td>US</td>\n",
       "      <td>155.00</td>\n",
       "      <td>155.00</td>\n",
       "      <td>1500.00</td>\n",
       "    </tr>\n",
       "    <tr>\n",
       "      <th>999986353</th>\n",
       "      <td>Walls of Remedy- New lesbian Romantic Comedy f...</td>\n",
       "      <td>Narrative Film</td>\n",
       "      <td>Film &amp; Video</td>\n",
       "      <td>USD</td>\n",
       "      <td>2010-08-16</td>\n",
       "      <td>15000.0</td>\n",
       "      <td>2010-07-01 19:40:30</td>\n",
       "      <td>20.00</td>\n",
       "      <td>failed</td>\n",
       "      <td>1</td>\n",
       "      <td>US</td>\n",
       "      <td>20.00</td>\n",
       "      <td>20.00</td>\n",
       "      <td>15000.00</td>\n",
       "    </tr>\n",
       "    <tr>\n",
       "      <th>999987933</th>\n",
       "      <td>BioDefense Education Kit</td>\n",
       "      <td>Technology</td>\n",
       "      <td>Technology</td>\n",
       "      <td>USD</td>\n",
       "      <td>2016-02-13</td>\n",
       "      <td>15000.0</td>\n",
       "      <td>2016-01-13 18:13:53</td>\n",
       "      <td>200.00</td>\n",
       "      <td>failed</td>\n",
       "      <td>6</td>\n",
       "      <td>US</td>\n",
       "      <td>200.00</td>\n",
       "      <td>200.00</td>\n",
       "      <td>15000.00</td>\n",
       "    </tr>\n",
       "    <tr>\n",
       "      <th>999988282</th>\n",
       "      <td>Nou Renmen Ayiti!  We Love Haiti!</td>\n",
       "      <td>Performance Art</td>\n",
       "      <td>Art</td>\n",
       "      <td>USD</td>\n",
       "      <td>2011-08-16</td>\n",
       "      <td>2000.0</td>\n",
       "      <td>2011-07-19 09:07:47</td>\n",
       "      <td>524.00</td>\n",
       "      <td>failed</td>\n",
       "      <td>17</td>\n",
       "      <td>US</td>\n",
       "      <td>524.00</td>\n",
       "      <td>524.00</td>\n",
       "      <td>2000.00</td>\n",
       "    </tr>\n",
       "  </tbody>\n",
       "</table>\n",
       "<p>378661 rows × 14 columns</p>\n",
       "</div>"
      ],
      "text/plain": [
       "                                                         name  \\\n",
       "ID                                                              \n",
       "1000002330                    The Songs of Adelaide & Abullah   \n",
       "1000003930      Greeting From Earth: ZGAC Arts Capsule For ET   \n",
       "1000004038                                     Where is Hank?   \n",
       "1000007540  ToshiCapital Rekordz Needs Help to Complete Album   \n",
       "1000011046  Community Film Project: The Art of Neighborhoo...   \n",
       "1000014025                               Monarch Espresso Bar   \n",
       "1000023410  Support Solar Roasted Coffee & Green Energy!  ...   \n",
       "1000030581  Chaser Strips. Our Strips make Shots their B*tch!   \n",
       "1000034518  SPIN - Premium Retractable In-Ear Headphones w...   \n",
       "100004195   STUDIO IN THE SKY - A Documentary Feature Film...   \n",
       "100004721                                 Of Jesus and Madmen   \n",
       "100005484                                    Lisa Lim New CD!   \n",
       "1000055792                                 The Cottage Market   \n",
       "1000056157  G-Spot Place for Gamers to connect with eachot...   \n",
       "1000057089  Tombstone: Old West tabletop game and miniatur...   \n",
       "1000064368                                     Survival Rings   \n",
       "1000064918                                          The Beard   \n",
       "1000068480                   Notes From London: Above & Below   \n",
       "1000070642                Mike Corey's Darkness & Light Album   \n",
       "1000071625                                           Boco Tea   \n",
       "1000072011              CMUK. Shoes: Take on Life Feet First.   \n",
       "1000081649                   MikeyJ clothing brand fundraiser   \n",
       "1000082254                     Alice in Wonderland in G Minor   \n",
       "1000087442  Mountain brew: A quest for alcohol sustainability   \n",
       "1000091520                        The Book Zoo - A Mini-Comic   \n",
       "1000102741  Matt Cavenaugh & Jenny Powers make their 1st a...   \n",
       "1000103948                               Superhero Teddy Bear   \n",
       "1000104688                                Permaculture Skills   \n",
       "1000104953  Rebel Army Origins: The Heroic Story Of Major ...   \n",
       "100011318                       My Moon - Animated Short Film   \n",
       "...                                                       ...   \n",
       "999832803   MONSTROCARDS- A Creative Drawing Game of Horri...   \n",
       "99984851                                             \"Loreto\"   \n",
       "999865831   STATE OF G - Men's Blazer Jacket & Women's Car...   \n",
       "999867839                                       Transcaucasia   \n",
       "99987261    You're Not Cis, You Just Think You Are: My Enb...   \n",
       "999877902                       Little Saturday's Debut Album   \n",
       "999878813                            Ways to Look at the Moon   \n",
       "999880710                                 Terminal Uniqueness   \n",
       "999884445   Superette Tea - Boldly Caffeinated Loose Leaf Tea   \n",
       "999893629                           Ciridian Helix (Canceled)   \n",
       "99991751     Here is the oasis for the youngest in the world.   \n",
       "999929142   ÉPOUVANTAILS : 28mm Figurines de jeux pour KIN...   \n",
       "999931480                      Google Glass Shield (Canceled)   \n",
       "999934908                                The Manual Bar Blade   \n",
       "999941823         The Chronicles of Erinoth - A Graphic Novel   \n",
       "999943841                                 The Dog Coffee Book   \n",
       "999950812                               The Cease is Increase   \n",
       "999955533         Cards and Chit Network Season 2! (Canceled)   \n",
       "999963618       Colorado International Activism Film Festival   \n",
       "99996661                           Date Seat - Boston iOS App   \n",
       "999969812                                        AT THE BEACH   \n",
       "999971898                         Beach Wrestling Documentary   \n",
       "999972264                                             Islanda   \n",
       "999975836               Homemade fresh dog food, Cleveland OH   \n",
       "999976312                          Angela's Poetry (Canceled)   \n",
       "999976400   ChknTruk Nationwide Charity Drive 2014 (Canceled)   \n",
       "999977640                                           The Tribe   \n",
       "999986353   Walls of Remedy- New lesbian Romantic Comedy f...   \n",
       "999987933                            BioDefense Education Kit   \n",
       "999988282                   Nou Renmen Ayiti!  We Love Haiti!   \n",
       "\n",
       "                    category main_category currency    deadline      goal  \\\n",
       "ID                                                                          \n",
       "1000002330            Poetry    Publishing      GBP  2015-10-09    1000.0   \n",
       "1000003930    Narrative Film  Film & Video      USD  2017-11-01   30000.0   \n",
       "1000004038    Narrative Film  Film & Video      USD  2013-02-26   45000.0   \n",
       "1000007540             Music         Music      USD  2012-04-16    5000.0   \n",
       "1000011046      Film & Video  Film & Video      USD  2015-08-29   19500.0   \n",
       "1000014025       Restaurants          Food      USD  2016-04-01   50000.0   \n",
       "1000023410              Food          Food      USD  2014-12-21    1000.0   \n",
       "1000030581            Drinks          Food      USD  2016-03-17   25000.0   \n",
       "1000034518    Product Design        Design      USD  2014-05-29  125000.0   \n",
       "100004195        Documentary  Film & Video      USD  2014-08-10   65000.0   \n",
       "100004721         Nonfiction    Publishing      CAD  2013-10-09    2500.0   \n",
       "100005484         Indie Rock         Music      USD  2013-04-08   12500.0   \n",
       "1000055792            Crafts        Crafts      USD  2014-10-02    5000.0   \n",
       "1000056157             Games         Games      USD  2016-03-25  200000.0   \n",
       "1000057089    Tabletop Games         Games      GBP  2017-05-03    5000.0   \n",
       "1000064368            Design        Design      USD  2015-02-28    2500.0   \n",
       "1000064918       Comic Books        Comics      USD  2014-11-08    1500.0   \n",
       "1000068480         Art Books    Publishing      USD  2015-05-10    3000.0   \n",
       "1000070642             Music         Music      USD  2012-08-17     250.0   \n",
       "1000071625              Food          Food      USD  2012-06-02    5000.0   \n",
       "1000072011           Fashion       Fashion      USD  2013-12-30   20000.0   \n",
       "1000081649     Childrenswear       Fashion      AUD  2017-09-07    2500.0   \n",
       "1000082254           Theater       Theater      USD  2014-06-15    3500.0   \n",
       "1000087442            Drinks          Food      NOK  2015-02-25     500.0   \n",
       "1000091520            Comics        Comics      USD  2014-11-12     175.0   \n",
       "1000102741             Music         Music      USD  2011-01-06   10000.0   \n",
       "1000103948               DIY        Crafts      GBP  2016-01-05   12000.0   \n",
       "1000104688         Webseries  Film & Video      CAD  2014-12-14   17757.0   \n",
       "1000104953            Comics        Comics      GBP  2016-01-28     100.0   \n",
       "100011318          Animation  Film & Video      USD  2017-05-03   50000.0   \n",
       "...                      ...           ...      ...         ...       ...   \n",
       "999832803      Playing Cards         Games      USD  2014-10-03   10000.0   \n",
       "99984851              Comedy  Film & Video      USD  2014-06-05   12000.0   \n",
       "999865831            Apparel       Fashion      USD  2014-12-13   25000.0   \n",
       "999867839        Photography   Photography      USD  2011-01-08    4000.0   \n",
       "99987261          Nonfiction    Publishing      USD  2015-09-24     800.0   \n",
       "999877902     Country & Folk         Music      CAD  2014-12-17    5000.0   \n",
       "999878813             Shorts  Film & Video      USD  2017-10-13   10000.0   \n",
       "999880710         Nonfiction    Publishing      USD  2014-08-15    5000.0   \n",
       "999884445             Drinks          Food      USD  2015-12-03    5000.0   \n",
       "999893629            Fiction    Publishing      USD  2014-09-11    1000.0   \n",
       "99991751      Product Design        Design      CHF  2015-09-04   80000.0   \n",
       "999929142     Tabletop Games         Games      EUR  2017-10-31    1000.0   \n",
       "999931480        3D Printing    Technology      USD  2014-05-26    6500.0   \n",
       "999934908     Product Design        Design      USD  2015-12-15    3500.0   \n",
       "999941823             Comics        Comics      GBP  2013-10-10   16000.0   \n",
       "999943841   Children's Books    Publishing      USD  2013-11-30     950.0   \n",
       "999950812         Nonfiction    Publishing      USD  2012-09-14    4999.0   \n",
       "999955533     Tabletop Games         Games      USD  2016-02-23     500.0   \n",
       "999963618     Narrative Film  Film & Video      USD  2017-04-09     500.0   \n",
       "99996661                Apps    Technology      USD  2016-09-05    6000.0   \n",
       "999969812    Classical Music         Music      CAD  2014-03-22    5000.0   \n",
       "999971898        Documentary  Film & Video      NOK  2015-04-28   20000.0   \n",
       "999972264        Documentary  Film & Video      USD  2012-03-16    1700.0   \n",
       "999975836        Small Batch          Food      USD  2017-04-19    6500.0   \n",
       "999976312             Poetry    Publishing      CAD  2014-09-20    5500.0   \n",
       "999976400        Documentary  Film & Video      USD  2014-10-17   50000.0   \n",
       "999977640     Narrative Film  Film & Video      USD  2011-07-19    1500.0   \n",
       "999986353     Narrative Film  Film & Video      USD  2010-08-16   15000.0   \n",
       "999987933         Technology    Technology      USD  2016-02-13   15000.0   \n",
       "999988282    Performance Art           Art      USD  2011-08-16    2000.0   \n",
       "\n",
       "                       launched   pledged       state  backers country  \\\n",
       "ID                                                                       \n",
       "1000002330  2015-08-11 12:12:28      0.00      failed        0      GB   \n",
       "1000003930  2017-09-02 04:43:57   2421.00      failed       15      US   \n",
       "1000004038  2013-01-12 00:20:50    220.00      failed        3      US   \n",
       "1000007540  2012-03-17 03:24:11      1.00      failed        1      US   \n",
       "1000011046  2015-07-04 08:35:03   1283.00    canceled       14      US   \n",
       "1000014025  2016-02-26 13:38:27  52375.00  successful      224      US   \n",
       "1000023410  2014-12-01 18:30:44   1205.00  successful       16      US   \n",
       "1000030581  2016-02-01 20:05:12    453.00      failed       40      US   \n",
       "1000034518  2014-04-24 18:14:43   8233.00    canceled       58      US   \n",
       "100004195   2014-07-11 21:55:48   6240.57    canceled       43      US   \n",
       "100004721   2013-09-09 18:19:37      0.00      failed        0      CA   \n",
       "100005484   2013-03-09 06:42:58  12700.00  successful      100      US   \n",
       "1000055792  2014-09-02 17:11:50      0.00      failed        0      US   \n",
       "1000056157  2016-02-09 23:01:12      0.00      failed        0      US   \n",
       "1000057089  2017-04-05 19:44:18  94175.00  successful      761      GB   \n",
       "1000064368  2015-01-29 02:10:53    664.00      failed       11      US   \n",
       "1000064918  2014-10-09 22:27:52    395.00      failed       16      US   \n",
       "1000068480  2015-04-10 21:20:54    789.00      failed       20      US   \n",
       "1000070642  2012-08-02 14:11:32    250.00  successful        7      US   \n",
       "1000071625  2012-05-03 17:24:32   1781.00      failed       40      US   \n",
       "1000072011  2013-11-25 07:06:11  34268.00  successful      624      US   \n",
       "1000081649  2017-08-08 01:20:20      1.00      failed        1      AU   \n",
       "1000082254  2014-05-16 10:10:38    650.00      failed       12      US   \n",
       "1000087442  2015-01-26 19:17:33     48.00      failed        3      NO   \n",
       "1000091520  2014-10-23 17:15:50    701.66  successful       66      US   \n",
       "1000102741  2010-12-07 23:16:50  15827.00  successful      147      US   \n",
       "1000103948  2015-12-06 20:09:06      0.00      failed        0      GB   \n",
       "1000104688  2014-11-14 18:02:00  48905.00  successful      571      CA   \n",
       "1000104953  2015-12-29 16:59:29    112.38  successful       27      GB   \n",
       "100011318   2017-04-03 17:11:33  57577.31  successful      840      US   \n",
       "...                         ...       ...         ...      ...     ...   \n",
       "999832803   2014-09-03 19:53:50  13861.50  successful      413      US   \n",
       "99984851    2014-05-06 23:50:34      0.00      failed        0      US   \n",
       "999865831   2014-11-13 17:16:17  11643.00      failed       97      US   \n",
       "999867839   2010-11-08 02:43:59   3531.00      failed       37      US   \n",
       "99987261    2015-08-25 22:37:14     70.00      failed        5      US   \n",
       "999877902   2014-11-17 17:50:12   5435.00  successful       78      CA   \n",
       "999878813   2017-08-29 06:57:28  10245.00  successful      123      US   \n",
       "999880710   2014-07-15 02:10:39     18.00      failed        5      US   \n",
       "999884445   2015-11-03 13:04:14   5579.00  successful      103      US   \n",
       "999893629   2014-08-08 21:49:31    100.00    canceled        2      US   \n",
       "99991751    2015-07-06 18:00:47      0.00      failed        0      CH   \n",
       "999929142   2017-10-04 11:26:44   1246.00  successful       35      FR   \n",
       "999931480   2014-05-05 20:22:45      0.00    canceled        0      US   \n",
       "999934908   2015-11-23 07:33:14   6169.00  successful      120      US   \n",
       "999941823   2013-09-10 22:45:26   2738.00      failed       38      GB   \n",
       "999943841   2013-10-18 21:35:04   1732.02  successful       31      US   \n",
       "999950812   2012-08-15 17:11:00    980.00      failed       16      US   \n",
       "999955533   2016-01-24 16:03:27    121.00    canceled        5      US   \n",
       "999963618   2017-02-08 02:28:44    135.00      failed        6      US   \n",
       "99996661    2016-07-29 15:36:29      0.00      failed        0      US   \n",
       "999969812   2014-02-20 01:00:16   5501.00  successful       78      CA   \n",
       "999971898   2015-03-29 21:30:33  21500.00  successful       36      NO   \n",
       "999972264   2012-02-15 04:31:10     25.00      failed        1      US   \n",
       "999975836   2017-03-20 22:08:22    154.00      failed        4      US   \n",
       "999976312   2014-08-06 03:46:07      0.00    canceled        0      CA   \n",
       "999976400   2014-09-17 02:35:30     25.00    canceled        1      US   \n",
       "999977640   2011-06-22 03:35:14    155.00      failed        5      US   \n",
       "999986353   2010-07-01 19:40:30     20.00      failed        1      US   \n",
       "999987933   2016-01-13 18:13:53    200.00      failed        6      US   \n",
       "999988282   2011-07-19 09:07:47    524.00      failed       17      US   \n",
       "\n",
       "            usd pledged  usd_pledged_real  usd_goal_real  \n",
       "ID                                                        \n",
       "1000002330         0.00              0.00        1533.95  \n",
       "1000003930       100.00           2421.00       30000.00  \n",
       "1000004038       220.00            220.00       45000.00  \n",
       "1000007540         1.00              1.00        5000.00  \n",
       "1000011046      1283.00           1283.00       19500.00  \n",
       "1000014025     52375.00          52375.00       50000.00  \n",
       "1000023410      1205.00           1205.00        1000.00  \n",
       "1000030581       453.00            453.00       25000.00  \n",
       "1000034518      8233.00           8233.00      125000.00  \n",
       "100004195       6240.57           6240.57       65000.00  \n",
       "100004721          0.00              0.00        2406.39  \n",
       "100005484      12700.00          12700.00       12500.00  \n",
       "1000055792         0.00              0.00        5000.00  \n",
       "1000056157         0.00              0.00      200000.00  \n",
       "1000057089     57763.78         121857.33        6469.73  \n",
       "1000064368       664.00            664.00        2500.00  \n",
       "1000064918       395.00            395.00        1500.00  \n",
       "1000068480       789.00            789.00        3000.00  \n",
       "1000070642       250.00            250.00         250.00  \n",
       "1000071625      1781.00           1781.00        5000.00  \n",
       "1000072011     34268.00          34268.00       20000.00  \n",
       "1000081649         0.00              0.81        2026.10  \n",
       "1000082254       650.00            650.00        3500.00  \n",
       "1000087442         6.18              6.29          65.55  \n",
       "1000091520       701.66            701.66         175.00  \n",
       "1000102741     15827.00          15827.00       10000.00  \n",
       "1000103948         0.00              0.00       17489.65  \n",
       "1000104688     43203.25          42174.03       15313.04  \n",
       "1000104953       167.70            160.60         142.91  \n",
       "100011318      10120.00          57577.31       50000.00  \n",
       "...                 ...               ...            ...  \n",
       "999832803      13861.50          13861.50       10000.00  \n",
       "99984851           0.00              0.00       12000.00  \n",
       "999865831      11643.00          11643.00       25000.00  \n",
       "999867839       3531.00           3531.00        4000.00  \n",
       "99987261          70.00             70.00         800.00  \n",
       "999877902       4814.88           4686.96        4311.83  \n",
       "999878813        145.00          10245.00       10000.00  \n",
       "999880710         18.00             18.00        5000.00  \n",
       "999884445       5579.00           5579.00        5000.00  \n",
       "999893629        100.00            100.00        1000.00  \n",
       "99991751           0.00              0.00       82207.27  \n",
       "999929142         66.72           1452.47        1165.70  \n",
       "999931480          0.00              0.00        6500.00  \n",
       "999934908       6169.00           6169.00        3500.00  \n",
       "999941823       4281.15           4374.99       25566.05  \n",
       "999943841       1732.02           1732.02         950.00  \n",
       "999950812        980.00            980.00        4999.00  \n",
       "999955533        121.00            121.00         500.00  \n",
       "999963618         45.00            135.00         500.00  \n",
       "99996661           0.00              0.00        6000.00  \n",
       "999969812       5019.92           4983.69        4529.81  \n",
       "999971898       2698.97           2875.83        2675.19  \n",
       "999972264         25.00             25.00        1700.00  \n",
       "999975836          0.00            154.00        6500.00  \n",
       "999976312          0.00              0.00        4949.60  \n",
       "999976400         25.00             25.00       50000.00  \n",
       "999977640        155.00            155.00        1500.00  \n",
       "999986353         20.00             20.00       15000.00  \n",
       "999987933        200.00            200.00       15000.00  \n",
       "999988282        524.00            524.00        2000.00  \n",
       "\n",
       "[378661 rows x 14 columns]"
      ]
     },
     "execution_count": 3,
     "metadata": {},
     "output_type": "execute_result"
    }
   ],
   "source": [
    "df = pd.read_csv('dataset.csv', index_col = 0)\n",
    "df"
   ]
  },
  {
   "cell_type": "markdown",
   "metadata": {},
   "source": [
    "## Analyse des valeurs dupliquées"
   ]
  },
  {
   "cell_type": "code",
   "execution_count": 13,
   "metadata": {},
   "outputs": [
    {
     "data": {
      "text/plain": [
       "False    378661\n",
       "dtype: int64"
      ]
     },
     "execution_count": 13,
     "metadata": {},
     "output_type": "execute_result"
    }
   ],
   "source": [
    "df.duplicated().value_counts()"
   ]
  },
  {
   "cell_type": "markdown",
   "metadata": {},
   "source": [
    "Comme on peut le voir, il n'y a pas de duplicat dans le dataframe. Par contre s'il y en aurait, il faudrait effectuer un drop du cas en question."
   ]
  },
  {
   "cell_type": "markdown",
   "metadata": {},
   "source": [
    "## Analyse des valeurs nulles"
   ]
  },
  {
   "cell_type": "code",
   "execution_count": 14,
   "metadata": {},
   "outputs": [
    {
     "data": {
      "text/plain": [
       "name                   4\n",
       "category               0\n",
       "main_category          0\n",
       "currency               0\n",
       "deadline               0\n",
       "goal                   0\n",
       "launched               0\n",
       "pledged                0\n",
       "state                  0\n",
       "backers                0\n",
       "country                0\n",
       "usd pledged         3797\n",
       "usd_pledged_real       0\n",
       "usd_goal_real          0\n",
       "succes                 0\n",
       "dtype: int64"
      ]
     },
     "execution_count": 14,
     "metadata": {},
     "output_type": "execute_result"
    }
   ],
   "source": [
    "df.isnull().sum()"
   ]
  },
  {
   "cell_type": "markdown",
   "metadata": {},
   "source": [
    "## Analyse des types de valeurs"
   ]
  },
  {
   "cell_type": "code",
   "execution_count": 15,
   "metadata": {},
   "outputs": [
    {
     "data": {
      "text/plain": [
       "name                 object\n",
       "category             object\n",
       "main_category        object\n",
       "currency             object\n",
       "deadline             object\n",
       "goal                float64\n",
       "launched             object\n",
       "pledged             float64\n",
       "state                object\n",
       "backers               int64\n",
       "country              object\n",
       "usd pledged         float64\n",
       "usd_pledged_real    float64\n",
       "usd_goal_real       float64\n",
       "succes                int64\n",
       "dtype: object"
      ]
     },
     "execution_count": 15,
     "metadata": {},
     "output_type": "execute_result"
    }
   ],
   "source": [
    "df.dtypes"
   ]
  },
  {
   "cell_type": "markdown",
   "metadata": {},
   "source": [
    "## Describe : description statistique"
   ]
  },
  {
   "cell_type": "code",
   "execution_count": 6,
   "metadata": {},
   "outputs": [
    {
     "data": {
      "text/html": [
       "<div>\n",
       "<style scoped>\n",
       "    .dataframe tbody tr th:only-of-type {\n",
       "        vertical-align: middle;\n",
       "    }\n",
       "\n",
       "    .dataframe tbody tr th {\n",
       "        vertical-align: top;\n",
       "    }\n",
       "\n",
       "    .dataframe thead th {\n",
       "        text-align: right;\n",
       "    }\n",
       "</style>\n",
       "<table border=\"1\" class=\"dataframe\">\n",
       "  <thead>\n",
       "    <tr style=\"text-align: right;\">\n",
       "      <th></th>\n",
       "      <th>goal</th>\n",
       "      <th>pledged</th>\n",
       "      <th>backers</th>\n",
       "      <th>usd pledged</th>\n",
       "      <th>usd_pledged_real</th>\n",
       "      <th>usd_goal_real</th>\n",
       "    </tr>\n",
       "  </thead>\n",
       "  <tbody>\n",
       "    <tr>\n",
       "      <th>count</th>\n",
       "      <td>3.786610e+05</td>\n",
       "      <td>3.786610e+05</td>\n",
       "      <td>378661.000000</td>\n",
       "      <td>3.748640e+05</td>\n",
       "      <td>3.786610e+05</td>\n",
       "      <td>3.786610e+05</td>\n",
       "    </tr>\n",
       "    <tr>\n",
       "      <th>mean</th>\n",
       "      <td>4.908079e+04</td>\n",
       "      <td>9.682979e+03</td>\n",
       "      <td>105.617476</td>\n",
       "      <td>7.036729e+03</td>\n",
       "      <td>9.058924e+03</td>\n",
       "      <td>4.545440e+04</td>\n",
       "    </tr>\n",
       "    <tr>\n",
       "      <th>std</th>\n",
       "      <td>1.183391e+06</td>\n",
       "      <td>9.563601e+04</td>\n",
       "      <td>907.185035</td>\n",
       "      <td>7.863975e+04</td>\n",
       "      <td>9.097334e+04</td>\n",
       "      <td>1.152950e+06</td>\n",
       "    </tr>\n",
       "    <tr>\n",
       "      <th>min</th>\n",
       "      <td>1.000000e-02</td>\n",
       "      <td>0.000000e+00</td>\n",
       "      <td>0.000000</td>\n",
       "      <td>0.000000e+00</td>\n",
       "      <td>0.000000e+00</td>\n",
       "      <td>1.000000e-02</td>\n",
       "    </tr>\n",
       "    <tr>\n",
       "      <th>25%</th>\n",
       "      <td>2.000000e+03</td>\n",
       "      <td>3.000000e+01</td>\n",
       "      <td>2.000000</td>\n",
       "      <td>1.698000e+01</td>\n",
       "      <td>3.100000e+01</td>\n",
       "      <td>2.000000e+03</td>\n",
       "    </tr>\n",
       "    <tr>\n",
       "      <th>50%</th>\n",
       "      <td>5.200000e+03</td>\n",
       "      <td>6.200000e+02</td>\n",
       "      <td>12.000000</td>\n",
       "      <td>3.947200e+02</td>\n",
       "      <td>6.243300e+02</td>\n",
       "      <td>5.500000e+03</td>\n",
       "    </tr>\n",
       "    <tr>\n",
       "      <th>75%</th>\n",
       "      <td>1.600000e+04</td>\n",
       "      <td>4.076000e+03</td>\n",
       "      <td>56.000000</td>\n",
       "      <td>3.034090e+03</td>\n",
       "      <td>4.050000e+03</td>\n",
       "      <td>1.550000e+04</td>\n",
       "    </tr>\n",
       "    <tr>\n",
       "      <th>max</th>\n",
       "      <td>1.000000e+08</td>\n",
       "      <td>2.033899e+07</td>\n",
       "      <td>219382.000000</td>\n",
       "      <td>2.033899e+07</td>\n",
       "      <td>2.033899e+07</td>\n",
       "      <td>1.663614e+08</td>\n",
       "    </tr>\n",
       "  </tbody>\n",
       "</table>\n",
       "</div>"
      ],
      "text/plain": [
       "               goal       pledged        backers   usd pledged  \\\n",
       "count  3.786610e+05  3.786610e+05  378661.000000  3.748640e+05   \n",
       "mean   4.908079e+04  9.682979e+03     105.617476  7.036729e+03   \n",
       "std    1.183391e+06  9.563601e+04     907.185035  7.863975e+04   \n",
       "min    1.000000e-02  0.000000e+00       0.000000  0.000000e+00   \n",
       "25%    2.000000e+03  3.000000e+01       2.000000  1.698000e+01   \n",
       "50%    5.200000e+03  6.200000e+02      12.000000  3.947200e+02   \n",
       "75%    1.600000e+04  4.076000e+03      56.000000  3.034090e+03   \n",
       "max    1.000000e+08  2.033899e+07  219382.000000  2.033899e+07   \n",
       "\n",
       "       usd_pledged_real  usd_goal_real  \n",
       "count      3.786610e+05   3.786610e+05  \n",
       "mean       9.058924e+03   4.545440e+04  \n",
       "std        9.097334e+04   1.152950e+06  \n",
       "min        0.000000e+00   1.000000e-02  \n",
       "25%        3.100000e+01   2.000000e+03  \n",
       "50%        6.243300e+02   5.500000e+03  \n",
       "75%        4.050000e+03   1.550000e+04  \n",
       "max        2.033899e+07   1.663614e+08  "
      ]
     },
     "execution_count": 6,
     "metadata": {},
     "output_type": "execute_result"
    }
   ],
   "source": [
    "df.describe()"
   ]
  },
  {
   "cell_type": "markdown",
   "metadata": {},
   "source": [
    "## Analyse de toutes les colonnes du dataframe"
   ]
  },
  {
   "cell_type": "code",
   "execution_count": 7,
   "metadata": {},
   "outputs": [
    {
     "data": {
      "text/plain": [
       "Index(['name', 'category', 'main_category', 'currency', 'deadline', 'goal',\n",
       "       'launched', 'pledged', 'state', 'backers', 'country', 'usd pledged',\n",
       "       'usd_pledged_real', 'usd_goal_real'],\n",
       "      dtype='object')"
      ]
     },
     "execution_count": 7,
     "metadata": {},
     "output_type": "execute_result"
    }
   ],
   "source": [
    "df.columns"
   ]
  },
  {
   "cell_type": "code",
   "execution_count": 8,
   "metadata": {},
   "outputs": [
    {
     "data": {
      "text/plain": [
       "<bound method DataFrame.info of                                                          name  \\\n",
       "ID                                                              \n",
       "1000002330                    The Songs of Adelaide & Abullah   \n",
       "1000003930      Greeting From Earth: ZGAC Arts Capsule For ET   \n",
       "1000004038                                     Where is Hank?   \n",
       "1000007540  ToshiCapital Rekordz Needs Help to Complete Album   \n",
       "1000011046  Community Film Project: The Art of Neighborhoo...   \n",
       "1000014025                               Monarch Espresso Bar   \n",
       "1000023410  Support Solar Roasted Coffee & Green Energy!  ...   \n",
       "1000030581  Chaser Strips. Our Strips make Shots their B*tch!   \n",
       "1000034518  SPIN - Premium Retractable In-Ear Headphones w...   \n",
       "100004195   STUDIO IN THE SKY - A Documentary Feature Film...   \n",
       "100004721                                 Of Jesus and Madmen   \n",
       "100005484                                    Lisa Lim New CD!   \n",
       "1000055792                                 The Cottage Market   \n",
       "1000056157  G-Spot Place for Gamers to connect with eachot...   \n",
       "1000057089  Tombstone: Old West tabletop game and miniatur...   \n",
       "1000064368                                     Survival Rings   \n",
       "1000064918                                          The Beard   \n",
       "1000068480                   Notes From London: Above & Below   \n",
       "1000070642                Mike Corey's Darkness & Light Album   \n",
       "1000071625                                           Boco Tea   \n",
       "1000072011              CMUK. Shoes: Take on Life Feet First.   \n",
       "1000081649                   MikeyJ clothing brand fundraiser   \n",
       "1000082254                     Alice in Wonderland in G Minor   \n",
       "1000087442  Mountain brew: A quest for alcohol sustainability   \n",
       "1000091520                        The Book Zoo - A Mini-Comic   \n",
       "1000102741  Matt Cavenaugh & Jenny Powers make their 1st a...   \n",
       "1000103948                               Superhero Teddy Bear   \n",
       "1000104688                                Permaculture Skills   \n",
       "1000104953  Rebel Army Origins: The Heroic Story Of Major ...   \n",
       "100011318                       My Moon - Animated Short Film   \n",
       "...                                                       ...   \n",
       "999832803   MONSTROCARDS- A Creative Drawing Game of Horri...   \n",
       "99984851                                             \"Loreto\"   \n",
       "999865831   STATE OF G - Men's Blazer Jacket & Women's Car...   \n",
       "999867839                                       Transcaucasia   \n",
       "99987261    You're Not Cis, You Just Think You Are: My Enb...   \n",
       "999877902                       Little Saturday's Debut Album   \n",
       "999878813                            Ways to Look at the Moon   \n",
       "999880710                                 Terminal Uniqueness   \n",
       "999884445   Superette Tea - Boldly Caffeinated Loose Leaf Tea   \n",
       "999893629                           Ciridian Helix (Canceled)   \n",
       "99991751     Here is the oasis for the youngest in the world.   \n",
       "999929142   ÉPOUVANTAILS : 28mm Figurines de jeux pour KIN...   \n",
       "999931480                      Google Glass Shield (Canceled)   \n",
       "999934908                                The Manual Bar Blade   \n",
       "999941823         The Chronicles of Erinoth - A Graphic Novel   \n",
       "999943841                                 The Dog Coffee Book   \n",
       "999950812                               The Cease is Increase   \n",
       "999955533         Cards and Chit Network Season 2! (Canceled)   \n",
       "999963618       Colorado International Activism Film Festival   \n",
       "99996661                           Date Seat - Boston iOS App   \n",
       "999969812                                        AT THE BEACH   \n",
       "999971898                         Beach Wrestling Documentary   \n",
       "999972264                                             Islanda   \n",
       "999975836               Homemade fresh dog food, Cleveland OH   \n",
       "999976312                          Angela's Poetry (Canceled)   \n",
       "999976400   ChknTruk Nationwide Charity Drive 2014 (Canceled)   \n",
       "999977640                                           The Tribe   \n",
       "999986353   Walls of Remedy- New lesbian Romantic Comedy f...   \n",
       "999987933                            BioDefense Education Kit   \n",
       "999988282                   Nou Renmen Ayiti!  We Love Haiti!   \n",
       "\n",
       "                    category main_category currency    deadline      goal  \\\n",
       "ID                                                                          \n",
       "1000002330            Poetry    Publishing      GBP  2015-10-09    1000.0   \n",
       "1000003930    Narrative Film  Film & Video      USD  2017-11-01   30000.0   \n",
       "1000004038    Narrative Film  Film & Video      USD  2013-02-26   45000.0   \n",
       "1000007540             Music         Music      USD  2012-04-16    5000.0   \n",
       "1000011046      Film & Video  Film & Video      USD  2015-08-29   19500.0   \n",
       "1000014025       Restaurants          Food      USD  2016-04-01   50000.0   \n",
       "1000023410              Food          Food      USD  2014-12-21    1000.0   \n",
       "1000030581            Drinks          Food      USD  2016-03-17   25000.0   \n",
       "1000034518    Product Design        Design      USD  2014-05-29  125000.0   \n",
       "100004195        Documentary  Film & Video      USD  2014-08-10   65000.0   \n",
       "100004721         Nonfiction    Publishing      CAD  2013-10-09    2500.0   \n",
       "100005484         Indie Rock         Music      USD  2013-04-08   12500.0   \n",
       "1000055792            Crafts        Crafts      USD  2014-10-02    5000.0   \n",
       "1000056157             Games         Games      USD  2016-03-25  200000.0   \n",
       "1000057089    Tabletop Games         Games      GBP  2017-05-03    5000.0   \n",
       "1000064368            Design        Design      USD  2015-02-28    2500.0   \n",
       "1000064918       Comic Books        Comics      USD  2014-11-08    1500.0   \n",
       "1000068480         Art Books    Publishing      USD  2015-05-10    3000.0   \n",
       "1000070642             Music         Music      USD  2012-08-17     250.0   \n",
       "1000071625              Food          Food      USD  2012-06-02    5000.0   \n",
       "1000072011           Fashion       Fashion      USD  2013-12-30   20000.0   \n",
       "1000081649     Childrenswear       Fashion      AUD  2017-09-07    2500.0   \n",
       "1000082254           Theater       Theater      USD  2014-06-15    3500.0   \n",
       "1000087442            Drinks          Food      NOK  2015-02-25     500.0   \n",
       "1000091520            Comics        Comics      USD  2014-11-12     175.0   \n",
       "1000102741             Music         Music      USD  2011-01-06   10000.0   \n",
       "1000103948               DIY        Crafts      GBP  2016-01-05   12000.0   \n",
       "1000104688         Webseries  Film & Video      CAD  2014-12-14   17757.0   \n",
       "1000104953            Comics        Comics      GBP  2016-01-28     100.0   \n",
       "100011318          Animation  Film & Video      USD  2017-05-03   50000.0   \n",
       "...                      ...           ...      ...         ...       ...   \n",
       "999832803      Playing Cards         Games      USD  2014-10-03   10000.0   \n",
       "99984851              Comedy  Film & Video      USD  2014-06-05   12000.0   \n",
       "999865831            Apparel       Fashion      USD  2014-12-13   25000.0   \n",
       "999867839        Photography   Photography      USD  2011-01-08    4000.0   \n",
       "99987261          Nonfiction    Publishing      USD  2015-09-24     800.0   \n",
       "999877902     Country & Folk         Music      CAD  2014-12-17    5000.0   \n",
       "999878813             Shorts  Film & Video      USD  2017-10-13   10000.0   \n",
       "999880710         Nonfiction    Publishing      USD  2014-08-15    5000.0   \n",
       "999884445             Drinks          Food      USD  2015-12-03    5000.0   \n",
       "999893629            Fiction    Publishing      USD  2014-09-11    1000.0   \n",
       "99991751      Product Design        Design      CHF  2015-09-04   80000.0   \n",
       "999929142     Tabletop Games         Games      EUR  2017-10-31    1000.0   \n",
       "999931480        3D Printing    Technology      USD  2014-05-26    6500.0   \n",
       "999934908     Product Design        Design      USD  2015-12-15    3500.0   \n",
       "999941823             Comics        Comics      GBP  2013-10-10   16000.0   \n",
       "999943841   Children's Books    Publishing      USD  2013-11-30     950.0   \n",
       "999950812         Nonfiction    Publishing      USD  2012-09-14    4999.0   \n",
       "999955533     Tabletop Games         Games      USD  2016-02-23     500.0   \n",
       "999963618     Narrative Film  Film & Video      USD  2017-04-09     500.0   \n",
       "99996661                Apps    Technology      USD  2016-09-05    6000.0   \n",
       "999969812    Classical Music         Music      CAD  2014-03-22    5000.0   \n",
       "999971898        Documentary  Film & Video      NOK  2015-04-28   20000.0   \n",
       "999972264        Documentary  Film & Video      USD  2012-03-16    1700.0   \n",
       "999975836        Small Batch          Food      USD  2017-04-19    6500.0   \n",
       "999976312             Poetry    Publishing      CAD  2014-09-20    5500.0   \n",
       "999976400        Documentary  Film & Video      USD  2014-10-17   50000.0   \n",
       "999977640     Narrative Film  Film & Video      USD  2011-07-19    1500.0   \n",
       "999986353     Narrative Film  Film & Video      USD  2010-08-16   15000.0   \n",
       "999987933         Technology    Technology      USD  2016-02-13   15000.0   \n",
       "999988282    Performance Art           Art      USD  2011-08-16    2000.0   \n",
       "\n",
       "                       launched   pledged       state  backers country  \\\n",
       "ID                                                                       \n",
       "1000002330  2015-08-11 12:12:28      0.00      failed        0      GB   \n",
       "1000003930  2017-09-02 04:43:57   2421.00      failed       15      US   \n",
       "1000004038  2013-01-12 00:20:50    220.00      failed        3      US   \n",
       "1000007540  2012-03-17 03:24:11      1.00      failed        1      US   \n",
       "1000011046  2015-07-04 08:35:03   1283.00    canceled       14      US   \n",
       "1000014025  2016-02-26 13:38:27  52375.00  successful      224      US   \n",
       "1000023410  2014-12-01 18:30:44   1205.00  successful       16      US   \n",
       "1000030581  2016-02-01 20:05:12    453.00      failed       40      US   \n",
       "1000034518  2014-04-24 18:14:43   8233.00    canceled       58      US   \n",
       "100004195   2014-07-11 21:55:48   6240.57    canceled       43      US   \n",
       "100004721   2013-09-09 18:19:37      0.00      failed        0      CA   \n",
       "100005484   2013-03-09 06:42:58  12700.00  successful      100      US   \n",
       "1000055792  2014-09-02 17:11:50      0.00      failed        0      US   \n",
       "1000056157  2016-02-09 23:01:12      0.00      failed        0      US   \n",
       "1000057089  2017-04-05 19:44:18  94175.00  successful      761      GB   \n",
       "1000064368  2015-01-29 02:10:53    664.00      failed       11      US   \n",
       "1000064918  2014-10-09 22:27:52    395.00      failed       16      US   \n",
       "1000068480  2015-04-10 21:20:54    789.00      failed       20      US   \n",
       "1000070642  2012-08-02 14:11:32    250.00  successful        7      US   \n",
       "1000071625  2012-05-03 17:24:32   1781.00      failed       40      US   \n",
       "1000072011  2013-11-25 07:06:11  34268.00  successful      624      US   \n",
       "1000081649  2017-08-08 01:20:20      1.00      failed        1      AU   \n",
       "1000082254  2014-05-16 10:10:38    650.00      failed       12      US   \n",
       "1000087442  2015-01-26 19:17:33     48.00      failed        3      NO   \n",
       "1000091520  2014-10-23 17:15:50    701.66  successful       66      US   \n",
       "1000102741  2010-12-07 23:16:50  15827.00  successful      147      US   \n",
       "1000103948  2015-12-06 20:09:06      0.00      failed        0      GB   \n",
       "1000104688  2014-11-14 18:02:00  48905.00  successful      571      CA   \n",
       "1000104953  2015-12-29 16:59:29    112.38  successful       27      GB   \n",
       "100011318   2017-04-03 17:11:33  57577.31  successful      840      US   \n",
       "...                         ...       ...         ...      ...     ...   \n",
       "999832803   2014-09-03 19:53:50  13861.50  successful      413      US   \n",
       "99984851    2014-05-06 23:50:34      0.00      failed        0      US   \n",
       "999865831   2014-11-13 17:16:17  11643.00      failed       97      US   \n",
       "999867839   2010-11-08 02:43:59   3531.00      failed       37      US   \n",
       "99987261    2015-08-25 22:37:14     70.00      failed        5      US   \n",
       "999877902   2014-11-17 17:50:12   5435.00  successful       78      CA   \n",
       "999878813   2017-08-29 06:57:28  10245.00  successful      123      US   \n",
       "999880710   2014-07-15 02:10:39     18.00      failed        5      US   \n",
       "999884445   2015-11-03 13:04:14   5579.00  successful      103      US   \n",
       "999893629   2014-08-08 21:49:31    100.00    canceled        2      US   \n",
       "99991751    2015-07-06 18:00:47      0.00      failed        0      CH   \n",
       "999929142   2017-10-04 11:26:44   1246.00  successful       35      FR   \n",
       "999931480   2014-05-05 20:22:45      0.00    canceled        0      US   \n",
       "999934908   2015-11-23 07:33:14   6169.00  successful      120      US   \n",
       "999941823   2013-09-10 22:45:26   2738.00      failed       38      GB   \n",
       "999943841   2013-10-18 21:35:04   1732.02  successful       31      US   \n",
       "999950812   2012-08-15 17:11:00    980.00      failed       16      US   \n",
       "999955533   2016-01-24 16:03:27    121.00    canceled        5      US   \n",
       "999963618   2017-02-08 02:28:44    135.00      failed        6      US   \n",
       "99996661    2016-07-29 15:36:29      0.00      failed        0      US   \n",
       "999969812   2014-02-20 01:00:16   5501.00  successful       78      CA   \n",
       "999971898   2015-03-29 21:30:33  21500.00  successful       36      NO   \n",
       "999972264   2012-02-15 04:31:10     25.00      failed        1      US   \n",
       "999975836   2017-03-20 22:08:22    154.00      failed        4      US   \n",
       "999976312   2014-08-06 03:46:07      0.00    canceled        0      CA   \n",
       "999976400   2014-09-17 02:35:30     25.00    canceled        1      US   \n",
       "999977640   2011-06-22 03:35:14    155.00      failed        5      US   \n",
       "999986353   2010-07-01 19:40:30     20.00      failed        1      US   \n",
       "999987933   2016-01-13 18:13:53    200.00      failed        6      US   \n",
       "999988282   2011-07-19 09:07:47    524.00      failed       17      US   \n",
       "\n",
       "            usd pledged  usd_pledged_real  usd_goal_real  \n",
       "ID                                                        \n",
       "1000002330         0.00              0.00        1533.95  \n",
       "1000003930       100.00           2421.00       30000.00  \n",
       "1000004038       220.00            220.00       45000.00  \n",
       "1000007540         1.00              1.00        5000.00  \n",
       "1000011046      1283.00           1283.00       19500.00  \n",
       "1000014025     52375.00          52375.00       50000.00  \n",
       "1000023410      1205.00           1205.00        1000.00  \n",
       "1000030581       453.00            453.00       25000.00  \n",
       "1000034518      8233.00           8233.00      125000.00  \n",
       "100004195       6240.57           6240.57       65000.00  \n",
       "100004721          0.00              0.00        2406.39  \n",
       "100005484      12700.00          12700.00       12500.00  \n",
       "1000055792         0.00              0.00        5000.00  \n",
       "1000056157         0.00              0.00      200000.00  \n",
       "1000057089     57763.78         121857.33        6469.73  \n",
       "1000064368       664.00            664.00        2500.00  \n",
       "1000064918       395.00            395.00        1500.00  \n",
       "1000068480       789.00            789.00        3000.00  \n",
       "1000070642       250.00            250.00         250.00  \n",
       "1000071625      1781.00           1781.00        5000.00  \n",
       "1000072011     34268.00          34268.00       20000.00  \n",
       "1000081649         0.00              0.81        2026.10  \n",
       "1000082254       650.00            650.00        3500.00  \n",
       "1000087442         6.18              6.29          65.55  \n",
       "1000091520       701.66            701.66         175.00  \n",
       "1000102741     15827.00          15827.00       10000.00  \n",
       "1000103948         0.00              0.00       17489.65  \n",
       "1000104688     43203.25          42174.03       15313.04  \n",
       "1000104953       167.70            160.60         142.91  \n",
       "100011318      10120.00          57577.31       50000.00  \n",
       "...                 ...               ...            ...  \n",
       "999832803      13861.50          13861.50       10000.00  \n",
       "99984851           0.00              0.00       12000.00  \n",
       "999865831      11643.00          11643.00       25000.00  \n",
       "999867839       3531.00           3531.00        4000.00  \n",
       "99987261          70.00             70.00         800.00  \n",
       "999877902       4814.88           4686.96        4311.83  \n",
       "999878813        145.00          10245.00       10000.00  \n",
       "999880710         18.00             18.00        5000.00  \n",
       "999884445       5579.00           5579.00        5000.00  \n",
       "999893629        100.00            100.00        1000.00  \n",
       "99991751           0.00              0.00       82207.27  \n",
       "999929142         66.72           1452.47        1165.70  \n",
       "999931480          0.00              0.00        6500.00  \n",
       "999934908       6169.00           6169.00        3500.00  \n",
       "999941823       4281.15           4374.99       25566.05  \n",
       "999943841       1732.02           1732.02         950.00  \n",
       "999950812        980.00            980.00        4999.00  \n",
       "999955533        121.00            121.00         500.00  \n",
       "999963618         45.00            135.00         500.00  \n",
       "99996661           0.00              0.00        6000.00  \n",
       "999969812       5019.92           4983.69        4529.81  \n",
       "999971898       2698.97           2875.83        2675.19  \n",
       "999972264         25.00             25.00        1700.00  \n",
       "999975836          0.00            154.00        6500.00  \n",
       "999976312          0.00              0.00        4949.60  \n",
       "999976400         25.00             25.00       50000.00  \n",
       "999977640        155.00            155.00        1500.00  \n",
       "999986353         20.00             20.00       15000.00  \n",
       "999987933        200.00            200.00       15000.00  \n",
       "999988282        524.00            524.00        2000.00  \n",
       "\n",
       "[378661 rows x 14 columns]>"
      ]
     },
     "execution_count": 8,
     "metadata": {},
     "output_type": "execute_result"
    }
   ],
   "source": [
    "df.info"
   ]
  },
  {
   "cell_type": "markdown",
   "metadata": {},
   "source": [
    "## Etude de corrélation du dataframe"
   ]
  },
  {
   "cell_type": "code",
   "execution_count": 9,
   "metadata": {},
   "outputs": [
    {
     "data": {
      "text/plain": [
       "Text(0.5,1,'Corrélation des valeurs numériques du DF')"
      ]
     },
     "execution_count": 9,
     "metadata": {},
     "output_type": "execute_result"
    },
    {
     "data": {
      "image/png": "[encoded data removed]",
      "text/plain": [
       "<Figure size 1296x504 with 2 Axes>"
      ]
     },
     "metadata": {
      "needs_background": "light"
     },
     "output_type": "display_data"
    }
   ],
   "source": [
    "plt.subplots(figsize=(18,7))\n",
    "sns.heatmap(df.corr(),vmin=-1,vmax=1)\n",
    "plt.title(\"Corrélation des valeurs numériques du DF\")"
   ]
  },
  {
   "cell_type": "markdown",
   "metadata": {},
   "source": [
    "## Analyse des outlayers"
   ]
  },
  {
   "cell_type": "code",
   "execution_count": 116,
   "metadata": {},
   "outputs": [
    {
     "data": {
      "text/plain": [
       "Text(0.5,1,'Analyse des outlayers')"
      ]
     },
     "execution_count": 116,
     "metadata": {},
     "output_type": "execute_result"
    },
    {
     "data": {
      "image/png": "[encoded data removed]",
      "text/plain": [
       "<Figure size 1296x504 with 1 Axes>"
      ]
     },
     "metadata": {
      "needs_background": "light"
     },
     "output_type": "display_data"
    }
   ],
   "source": [
    "plt.subplots(figsize=(18,7))\n",
    "df.boxplot()\n",
    "plt.title(\"Analyse des outlayers\")"
   ]
  },
  {
   "cell_type": "markdown",
   "metadata": {},
   "source": [
    "## Vérification des conditions du projet"
   ]
  },
  {
   "cell_type": "code",
   "execution_count": 11,
   "metadata": {},
   "outputs": [
    {
     "data": {
      "text/plain": [
       "failed        197719\n",
       "successful    133956\n",
       "canceled       38779\n",
       "undefined       3562\n",
       "live            2799\n",
       "suspended       1846\n",
       "Name: state, dtype: int64"
      ]
     },
     "execution_count": 11,
     "metadata": {},
     "output_type": "execute_result"
    }
   ],
   "source": [
    "df.state.value_counts() #Regarder les valeurs de réussite, d'échecs ou autre du projet"
   ]
  },
  {
   "cell_type": "code",
   "execution_count": 113,
   "metadata": {},
   "outputs": [
    {
     "data": {
      "text/plain": [
       "Text(0.5,1,'Répartition des valeurs des states')"
      ]
     },
     "execution_count": 113,
     "metadata": {},
     "output_type": "execute_result"
    },
    {
     "data": {
      "image/png": "[encoded data removed]",
      "text/plain": [
       "<Figure size 1296x504 with 1 Axes>"
      ]
     },
     "metadata": {
      "needs_background": "light"
     },
     "output_type": "display_data"
    }
   ],
   "source": [
    "plt.subplots(figsize=(18,7))\n",
    "sns.barplot(x='state',y='goal',data=df)\n",
    "plt.title(\"Répartition des valeurs des states\")"
   ]
  },
  {
   "cell_type": "code",
   "execution_count": 112,
   "metadata": {},
   "outputs": [
    {
     "data": {
      "text/plain": [
       "Text(0.5,1,'Répartition des valeurs des states')"
      ]
     },
     "execution_count": 112,
     "metadata": {},
     "output_type": "execute_result"
    },
    {
     "data": {
      "image/png": "[encoded data removed]",
      "text/plain": [
       "<Figure size 1296x504 with 1 Axes>"
      ]
     },
     "metadata": {
      "needs_background": "light"
     },
     "output_type": "display_data"
    }
   ],
   "source": [
    "plt.subplots(figsize=(18,7))\n",
    "df.state.value_counts().plot.bar()\n",
    "plt.title(\"Répartition des valeurs des states\")\n"
   ]
  },
  {
   "cell_type": "markdown",
   "metadata": {},
   "source": [
    "On remarque que pour undefined, live et suspended il n'y a pas énormément de valeur."
   ]
  },
  {
   "cell_type": "code",
   "execution_count": 119,
   "metadata": {
    "scrolled": true
   },
   "outputs": [
    {
     "data": {
      "text/plain": [
       "Text(0.5,1,'Répartition des valeurs des states qui ont pour valeur successful')"
      ]
     },
     "execution_count": 119,
     "metadata": {},
     "output_type": "execute_result"
    },
    {
     "data": {
      "image/png": "[encoded data removed]",
      "text/plain": [
       "<Figure size 1800x504 with 1 Axes>"
      ]
     },
     "metadata": {
      "needs_background": "light"
     },
     "output_type": "display_data"
    }
   ],
   "source": [
    "plt.subplots(figsize=(25,7))\n",
    "df.goal[df['state']=='successful'].value_counts().head(20).plot.bar()\n",
    "plt.title(\"Répartition des valeurs des states qui ont pour valeur successful\")"
   ]
  },
  {
   "cell_type": "code",
   "execution_count": 120,
   "metadata": {
    "scrolled": true
   },
   "outputs": [
    {
     "data": {
      "text/plain": [
       "Text(0.5,1,'Répartition des valeurs des states qui ont pour valeur failed, canceled state et successful')"
      ]
     },
     "execution_count": 120,
     "metadata": {},
     "output_type": "execute_result"
    },
    {
     "data": {
      "image/png": "[encoded data removed]",
      "text/plain": [
       "<Figure size 1800x504 with 1 Axes>"
      ]
     },
     "metadata": {
      "needs_background": "light"
     },
     "output_type": "display_data"
    }
   ],
   "source": [
    "plt.subplots(figsize=(25,7))\n",
    "sns.barplot(x='state',y='goal',data=df[(df.state == 'failed') | (df.state == 'successful') | (df.state == 'canceled') ])\n",
    "plt.title(\"Répartition des valeurs des states qui ont pour valeur failed, canceled state et successful\")"
   ]
  },
  {
   "cell_type": "markdown",
   "metadata": {},
   "source": [
    "J'ai enlevé \"undefined\", \"live\" et \"suspended\" car il n'y a pas assez de valeur comme on peut le voir un peu plus haut sur le plot.bar().\n",
    "Les résultats pourraient être faussés."
   ]
  },
  {
   "cell_type": "code",
   "execution_count": 111,
   "metadata": {},
   "outputs": [
    {
     "data": {
      "text/plain": [
       "Text(0.5,1,'')"
      ]
     },
     "execution_count": 111,
     "metadata": {},
     "output_type": "execute_result"
    },
    {
     "data": {
      "image/png": "[encoded data removed]",
      "text/plain": [
       "<Figure size 1296x504 with 1 Axes>"
      ]
     },
     "metadata": {
      "needs_background": "light"
     },
     "output_type": "display_data"
    }
   ],
   "source": [
    "plt.subplots(figsize=(18,7))\n",
    "df.goal[df['state']=='successful'].nlargest(20).plot.bar()\n",
    "plt.title(\"\")"
   ]
  },
  {
   "cell_type": "code",
   "execution_count": 18,
   "metadata": {},
   "outputs": [
    {
     "data": {
      "text/plain": [
       "Text(0.5,1,'Répartition des catégories en fonction des goals ')"
      ]
     },
     "execution_count": 18,
     "metadata": {},
     "output_type": "execute_result"
    },
    {
     "data": {
      "image/png": "[encoded data removed]",
      "text/plain": [
       "<Figure size 1296x504 with 1 Axes>"
      ]
     },
     "metadata": {
      "needs_background": "light"
     },
     "output_type": "display_data"
    }
   ],
   "source": [
    "plt.subplots(figsize=(18,7))\n",
    "sns.barplot(x='goal',y='category',data=df[df['state']== 'successful'].nlargest(35, 'goal'))\n",
    "plt.title(\"Répartition des catégories en fonction des goals \")"
   ]
  },
  {
   "cell_type": "markdown",
   "metadata": {},
   "source": [
    "Les catégories \"Television\" et \"Technology\" sont en tête de classement."
   ]
  },
  {
   "cell_type": "markdown",
   "metadata": {},
   "source": [
    "## Ajout de la colonne \"succes\""
   ]
  },
  {
   "cell_type": "code",
   "execution_count": 4,
   "metadata": {},
   "outputs": [],
   "source": [
    "df.insert(column = 'succes', value = 0,loc =14) #Je rajoute une column succes à la 14ème place"
   ]
  },
  {
   "cell_type": "code",
   "execution_count": 5,
   "metadata": {},
   "outputs": [],
   "source": [
    "df.succes[df.state == 'successful']= 1 "
   ]
  },
  {
   "cell_type": "markdown",
   "metadata": {},
   "source": [
    "Si dans la table state est égale à successful on attribut la valeur 1 pour pouvoir compter plus facilement après lors de l'affichage dans un plot pie."
   ]
  },
  {
   "cell_type": "code",
   "execution_count": 6,
   "metadata": {},
   "outputs": [
    {
     "data": {
      "text/plain": [
       "0    244705\n",
       "1    133956\n",
       "Name: succes, dtype: int64"
      ]
     },
     "execution_count": 6,
     "metadata": {},
     "output_type": "execute_result"
    }
   ],
   "source": [
    "df.succes.value_counts()"
   ]
  },
  {
   "cell_type": "markdown",
   "metadata": {},
   "source": [
    "Il y a 244 705 échecs et 133 956 succès."
   ]
  },
  {
   "cell_type": "code",
   "execution_count": 23,
   "metadata": {},
   "outputs": [
    {
     "data": {
      "text/plain": [
       "Text(0.5,1,'Répartition des succès')"
      ]
     },
     "execution_count": 23,
     "metadata": {},
     "output_type": "execute_result"
    },
    {
     "data": {
      "image/png": "[encoded data removed]",
      "text/plain": [
       "<Figure size 504x504 with 1 Axes>"
      ]
     },
     "metadata": {},
     "output_type": "display_data"
    }
   ],
   "source": [
    "plt.subplots(figsize=(7,7))\n",
    "df.succes.value_counts().plot.pie(autopct='%1.1f%%')\n",
    "plt.title('Répartition des succès')"
   ]
  },
  {
   "cell_type": "markdown",
   "metadata": {},
   "source": [
    "Il y a 64,6% de réussite."
   ]
  },
  {
   "cell_type": "markdown",
   "metadata": {},
   "source": [
    "## Répartition de la proportion de succès par catégorie"
   ]
  },
  {
   "cell_type": "code",
   "execution_count": 25,
   "metadata": {},
   "outputs": [
    {
     "data": {
      "text/plain": [
       "Text(0.5,1,'Répartition de la proportion de succès par catégorie')"
      ]
     },
     "execution_count": 25,
     "metadata": {},
     "output_type": "execute_result"
    },
    {
     "data": {
      "image/png": "[encoded data removed]",
      "text/plain": [
       "<Figure size 1296x504 with 1 Axes>"
      ]
     },
     "metadata": {
      "needs_background": "light"
     },
     "output_type": "display_data"
    }
   ],
   "source": [
    "plt.subplots(figsize=(18,7))\n",
    "df[df.succes == 1].main_category.value_counts().plot.bar()\n",
    "plt.title('Répartition de la proportion de succès par catégorie')"
   ]
  },
  {
   "cell_type": "code",
   "execution_count": 108,
   "metadata": {},
   "outputs": [
    {
     "data": {
      "text/plain": [
       "<matplotlib.axes._subplots.AxesSubplot at 0x1a60695b70>"
      ]
     },
     "execution_count": 108,
     "metadata": {},
     "output_type": "execute_result"
    },
    {
     "data": {
      "image/png": "[encoded data removed]",
      "text/plain": [
       "<Figure size 1296x504 with 1 Axes>"
      ]
     },
     "metadata": {},
     "output_type": "display_data"
    }
   ],
   "source": [
    "plt.subplots(figsize=(18,7))\n",
    "df[df.succes == 1].main_category.value_counts().plot.pie(autopct='%1.1f%%')"
   ]
  },
  {
   "cell_type": "code",
   "execution_count": 27,
   "metadata": {},
   "outputs": [
    {
     "data": {
      "text/plain": [
       "Music           24197\n",
       "Film & Video    23623\n",
       "Games           12518\n",
       "Publishing      12300\n",
       "Art             11510\n",
       "Design          10550\n",
       "Theater          6534\n",
       "Technology       6434\n",
       "Food             6085\n",
       "Comics           5842\n",
       "Fashion          5593\n",
       "Photography      3305\n",
       "Dance            2338\n",
       "Crafts           2115\n",
       "Journalism       1012\n",
       "Name: main_category, dtype: int64"
      ]
     },
     "execution_count": 27,
     "metadata": {},
     "output_type": "execute_result"
    }
   ],
   "source": [
    "df[df.succes == 1].main_category.value_counts()"
   ]
  },
  {
   "cell_type": "code",
   "execution_count": 46,
   "metadata": {},
   "outputs": [
    {
     "data": {
      "text/plain": [
       "<matplotlib.axes._subplots.AxesSubplot at 0x1a1d5f2e80>"
      ]
     },
     "execution_count": 46,
     "metadata": {},
     "output_type": "execute_result"
    },
    {
     "data": {
      "image/png": "[encoded data removed]",
      "text/plain": [
       "<Figure size 1296x504 with 1 Axes>"
      ]
     },
     "metadata": {
      "needs_background": "light"
     },
     "output_type": "display_data"
    }
   ],
   "source": [
    "plt.subplots(figsize=(18,7))\n",
    "sns.countplot(x=\"main_category\", hue=\"succes\", data=df)"
   ]
  },
  {
   "cell_type": "markdown",
   "metadata": {},
   "source": [
    "Dans cette analyse, il faut observer quelle catégorie possède au minimum plus de 50% de réussite; c'est à dire qu'il faut regarder lorsque la barre de succès est pllus grande que celle des échecs. \n",
    "Or, on voit très bien que le choix se porte sur du théâtre, comics ou de la dance."
   ]
  },
  {
   "cell_type": "code",
   "execution_count": 29,
   "metadata": {},
   "outputs": [
    {
     "data": {
      "text/plain": [
       "Text(0.5,1,'Pourcentage de réussite par catégorie')"
      ]
     },
     "execution_count": 29,
     "metadata": {},
     "output_type": "execute_result"
    },
    {
     "data": {
      "image/png": "[encoded data removed]",
      "text/plain": [
       "<Figure size 1296x504 with 1 Axes>"
      ]
     },
     "metadata": {
      "needs_background": "light"
     },
     "output_type": "display_data"
    }
   ],
   "source": [
    "plt.subplots(figsize=(18,7))\n",
    "sns.barplot(c)\n",
    "\n",
    "plt.title('Pourcentage de réussite par catégorie')"
   ]
  },
  {
   "cell_type": "markdown",
   "metadata": {},
   "source": [
    "Grâce à ce barplot, il est possible de justifier le choix des catégories précédemment choisies et qu'il faut deonc privilégier la dance, ensuite le théâtre et enfin le comic."
   ]
  },
  {
   "cell_type": "markdown",
   "metadata": {},
   "source": [
    "## Réussite par pays"
   ]
  },
  {
   "cell_type": "code",
   "execution_count": 30,
   "metadata": {
    "scrolled": true
   },
   "outputs": [
    {
     "data": {
      "text/plain": [
       "Text(0.5,1,'Répartition de réussite par pays')"
      ]
     },
     "execution_count": 30,
     "metadata": {},
     "output_type": "execute_result"
    },
    {
     "data": {
      "image/png": "[encoded data removed]",
      "text/plain": [
       "<Figure size 1296x504 with 1 Axes>"
      ]
     },
     "metadata": {
      "needs_background": "light"
     },
     "output_type": "display_data"
    }
   ],
   "source": [
    "plt.subplots(figsize=(18,7))\n",
    "sns.countplot(x=\"country\", hue=\"succes\", data=df)\n",
    "plt.title('Répartition de réussite par pays')"
   ]
  },
  {
   "cell_type": "code",
   "execution_count": 31,
   "metadata": {},
   "outputs": [
    {
     "data": {
      "text/plain": [
       "US      109299\n",
       "GB       12067\n",
       "CA        4134\n",
       "AU        2010\n",
       "DE         937\n",
       "FR         908\n",
       "NL         617\n",
       "SE         509\n",
       "ES         492\n",
       "NZ         448\n",
       "IT         439\n",
       "MX         396\n",
       "DK         360\n",
       "HK         216\n",
       "IE         207\n",
       "CH         187\n",
       "SG         178\n",
       "NO         162\n",
       "BE         152\n",
       "AT         107\n",
       "N,0\"       105\n",
       "LU          19\n",
       "JP           7\n",
       "Name: country, dtype: int64"
      ]
     },
     "execution_count": 31,
     "metadata": {},
     "output_type": "execute_result"
    }
   ],
   "source": [
    "#df[df.country == 'US'].value_counts().head(50).plot.bar()\n",
    "df[df.succes == 1].country.value_counts()"
   ]
  },
  {
   "cell_type": "markdown",
   "metadata": {},
   "source": [
    "On peut remarquer que les Etat-Unis ont une répartition de réussite la plus élevé parmi les autres avec comme valeur 109 299 succès. "
   ]
  },
  {
   "cell_type": "code",
   "execution_count": 107,
   "metadata": {},
   "outputs": [
    {
     "data": {
      "text/plain": [
       "<matplotlib.axes._subplots.AxesSubplot at 0x1a5d8d8080>"
      ]
     },
     "execution_count": 107,
     "metadata": {},
     "output_type": "execute_result"
    },
    {
     "data": {
      "image/png": "[encoded data removed]",
      "text/plain": [
       "<Figure size 1296x504 with 1 Axes>"
      ]
     },
     "metadata": {
      "needs_background": "light"
     },
     "output_type": "display_data"
    }
   ],
   "source": [
    "plt.subplots(figsize=(18,7))\n",
    "sns.countplot('country', data=df, order=df['country'].value_counts().iloc[:5].index)"
   ]
  },
  {
   "cell_type": "code",
   "execution_count": 106,
   "metadata": {},
   "outputs": [
    {
     "data": {
      "text/plain": [
       "<matplotlib.axes._subplots.AxesSubplot at 0x1a6051a6d8>"
      ]
     },
     "execution_count": 106,
     "metadata": {},
     "output_type": "execute_result"
    },
    {
     "data": {
      "image/png": "[encoded data removed]",
      "text/plain": [
       "<Figure size 1296x504 with 1 Axes>"
      ]
     },
     "metadata": {
      "needs_background": "light"
     },
     "output_type": "display_data"
    }
   ],
   "source": [
    "plt.subplots(figsize=(18,7))\n",
    "df.country.value_counts().plot.bar()"
   ]
  },
  {
   "cell_type": "markdown",
   "metadata": {},
   "source": [
    "## Projet par catégorie"
   ]
  },
  {
   "cell_type": "code",
   "execution_count": 105,
   "metadata": {},
   "outputs": [
    {
     "data": {
      "text/plain": [
       "Text(0.5,1,'Nombre de projet par catégorie')"
      ]
     },
     "execution_count": 105,
     "metadata": {},
     "output_type": "execute_result"
    },
    {
     "data": {
      "image/png": "[encoded data removed]",
      "text/plain": [
       "<Figure size 1296x504 with 1 Axes>"
      ]
     },
     "metadata": {
      "needs_background": "light"
     },
     "output_type": "display_data"
    }
   ],
   "source": [
    "plt.subplots(figsize=(18,7))\n",
    "sns.countplot(y='category', data=df, order=df['category'].value_counts().iloc[:10].index)\n",
    "plt.title('Nombre de projet par catégorie')"
   ]
  },
  {
   "cell_type": "code",
   "execution_count": 102,
   "metadata": {},
   "outputs": [
    {
     "data": {
      "text/plain": [
       "<matplotlib.axes._subplots.AxesSubplot at 0x1a5caf46d8>"
      ]
     },
     "execution_count": 102,
     "metadata": {},
     "output_type": "execute_result"
    },
    {
     "data": {
      "image/png": "[encoded data removed]",
      "text/plain": [
       "<Figure size 1296x504 with 1 Axes>"
      ]
     },
     "metadata": {
      "needs_background": "light"
     },
     "output_type": "display_data"
    }
   ],
   "source": [
    "plt.subplots(figsize=(18,7))\n",
    "df.category.value_counts().head(20).plot.bar()"
   ]
  },
  {
   "cell_type": "markdown",
   "metadata": {},
   "source": [
    "## Backers en fonction des catégories"
   ]
  },
  {
   "cell_type": "code",
   "execution_count": 139,
   "metadata": {},
   "outputs": [
    {
     "data": {
      "text/plain": [
       "Text(0.5,1,'Nombre de backers en fonction de la catégorie')"
      ]
     },
     "execution_count": 139,
     "metadata": {},
     "output_type": "execute_result"
    },
    {
     "data": {
      "image/png": "[encoded data removed]",
      "text/plain": [
       "<Figure size 1296x504 with 1 Axes>"
      ]
     },
     "metadata": {
      "needs_background": "light"
     },
     "output_type": "display_data"
    }
   ],
   "source": [
    "plt.subplots(figsize=(18,7))\n",
    "sns.barplot(x = 'main_category', y = 'backers',data=df)\n",
    "plt.title('Nombre de backers en fonction de la catégorie')"
   ]
  },
  {
   "cell_type": "markdown",
   "metadata": {},
   "source": [
    "## Backers en fonction du succès"
   ]
  },
  {
   "cell_type": "code",
   "execution_count": 69,
   "metadata": {},
   "outputs": [
    {
     "data": {
      "text/plain": [
       "Text(0.5,1,'Nombre de bakers en fonction du succès')"
      ]
     },
     "execution_count": 69,
     "metadata": {},
     "output_type": "execute_result"
    },
    {
     "data": {
      "image/png": "[encoded data removed]",
      "text/plain": [
       "<Figure size 1296x504 with 1 Axes>"
      ]
     },
     "metadata": {
      "needs_background": "light"
     },
     "output_type": "display_data"
    }
   ],
   "source": [
    "plt.subplots(figsize=(18,7))\n",
    "df[df.succes == 1].backers.value_counts().head(20).plot.bar()\n",
    "#sns.barplot(x = 'succes', y = 'backers',data=df)\n",
    "plt.title('Nombre de bakers en fonction du succès')"
   ]
  },
  {
   "cell_type": "code",
   "execution_count": 37,
   "metadata": {},
   "outputs": [
    {
     "data": {
      "text/plain": [
       "0        55609\n",
       "1        34869\n",
       "2        23196\n",
       "3        16063\n",
       "4        12068\n",
       "5         9716\n",
       "6         8137\n",
       "7         7014\n",
       "8         6198\n",
       "9         5553\n",
       "10        5068\n",
       "11        4547\n",
       "12        4348\n",
       "13        4136\n",
       "14        3950\n",
       "15        3734\n",
       "16        3447\n",
       "17        3440\n",
       "18        3164\n",
       "19        3148\n",
       "20        2959\n",
       "21        2822\n",
       "22        2731\n",
       "23        2648\n",
       "25        2543\n",
       "24        2521\n",
       "26        2416\n",
       "27        2315\n",
       "28        2261\n",
       "29        2159\n",
       "         ...  \n",
       "4482         1\n",
       "2433         1\n",
       "4226         1\n",
       "1919         1\n",
       "3713         1\n",
       "28274        1\n",
       "15736        1\n",
       "2942         1\n",
       "4477         1\n",
       "18550        1\n",
       "1918         1\n",
       "5250         1\n",
       "44949        1\n",
       "2181         1\n",
       "6784         1\n",
       "10119        1\n",
       "1923         1\n",
       "1411         1\n",
       "9095         1\n",
       "2946         1\n",
       "2690         1\n",
       "2178         1\n",
       "4739         1\n",
       "1922         1\n",
       "1410         1\n",
       "2691         1\n",
       "3712         1\n",
       "3456         1\n",
       "74405        1\n",
       "2047         1\n",
       "Name: backers, Length: 3963, dtype: int64"
      ]
     },
     "execution_count": 37,
     "metadata": {},
     "output_type": "execute_result"
    }
   ],
   "source": [
    "df.backers.value_counts()"
   ]
  },
  {
   "cell_type": "code",
   "execution_count": 38,
   "metadata": {},
   "outputs": [
    {
     "data": {
      "text/plain": [
       "array([   0,   15,    3, ..., 5828, 7855, 2314])"
      ]
     },
     "execution_count": 38,
     "metadata": {},
     "output_type": "execute_result"
    }
   ],
   "source": [
    "df['backers'].unique()"
   ]
  },
  {
   "cell_type": "code",
   "execution_count": 131,
   "metadata": {},
   "outputs": [
    {
     "data": {
      "text/plain": [
       "<matplotlib.axes._subplots.AxesSubplot at 0x1a6c372c18>"
      ]
     },
     "execution_count": 131,
     "metadata": {},
     "output_type": "execute_result"
    },
    {
     "data": {
      "image/png": "[encoded data removed]",
      "text/plain": [
       "<Figure size 432x288 with 1 Axes>"
      ]
     },
     "metadata": {
      "needs_background": "light"
     },
     "output_type": "display_data"
    }
   ],
   "source": [
    "sns.countplot('backers', data=df, order=df['backers'].head(10))"
   ]
  },
  {
   "cell_type": "markdown",
   "metadata": {},
   "source": [
    "## Rapport entre les backers et les USD Pledged"
   ]
  },
  {
   "cell_type": "code",
   "execution_count": 127,
   "metadata": {},
   "outputs": [
    {
     "data": {
      "text/plain": [
       "Text(0.5,1,' Rapport entre les backers et les USD PLEDGED')"
      ]
     },
     "execution_count": 127,
     "metadata": {},
     "output_type": "execute_result"
    },
    {
     "data": {
      "image/png": "[encoded data removed]",
      "text/plain": [
       "<Figure size 432x288 with 1 Axes>"
      ]
     },
     "metadata": {
      "needs_background": "light"
     },
     "output_type": "display_data"
    }
   ],
   "source": [
    "sns.regplot(x='backers',y='usd pledged', data=successful)\n",
    "plt.title(' Rapport entre les backers et les USD PLEDGED')"
   ]
  },
  {
   "cell_type": "markdown",
   "metadata": {},
   "source": [
    "## Analyse de projet pendant l'année"
   ]
  },
  {
   "cell_type": "code",
   "execution_count": 12,
   "metadata": {},
   "outputs": [],
   "source": [
    "df['launch_year']=pd.to_datetime(df['launched'], format=\"%Y/%m/%d\").dt.year"
   ]
  },
  {
   "cell_type": "code",
   "execution_count": 14,
   "metadata": {},
   "outputs": [
    {
     "data": {
      "image/png": "[encoded data removed]",
      "text/plain": [
       "<Figure size 432x288 with 1 Axes>"
      ]
     },
     "metadata": {
      "needs_background": "light"
     },
     "output_type": "display_data"
    }
   ],
   "source": [
    "fig = sns.countplot(df.launch_year)\n",
    "plt.xlabel(\"Année\")\n",
    "plt.ylabel(\"Nombre de projet\")\n",
    "plt.title(\"Nombre projet au cours de l'année\")\n",
    "plt.show(fig)"
   ]
  },
  {
   "cell_type": "markdown",
   "metadata": {},
   "source": [
    "On remarque qu'au cours de l'année 2015, il y a eu beaucoup plus de projets parmi les autres années."
   ]
  },
  {
   "cell_type": "markdown",
   "metadata": {},
   "source": [
    "## Analyse des pledges"
   ]
  },
  {
   "cell_type": "code",
   "execution_count": 132,
   "metadata": {},
   "outputs": [
    {
     "data": {
      "text/plain": [
       "<matplotlib.axes._subplots.AxesSubplot at 0x1a6ccfb208>"
      ]
     },
     "execution_count": 132,
     "metadata": {},
     "output_type": "execute_result"
    },
    {
     "data": {
      "image/png": "[encoded data removed]",
      "text/plain": [
       "<Figure size 1296x504 with 1 Axes>"
      ]
     },
     "metadata": {
      "needs_background": "light"
     },
     "output_type": "display_data"
    }
   ],
   "source": [
    "plt.subplots(figsize=(18,7))\n",
    "#sns.boxplot(y=df['usd pledged'])\n",
    "sns.boxplot(y=df['usd pledged'][df['usd pledged'] < 5000])"
   ]
  },
  {
   "cell_type": "code",
   "execution_count": 41,
   "metadata": {},
   "outputs": [
    {
     "data": {
      "text/plain": [
       "Index(['name', 'category', 'main_category', 'currency', 'deadline', 'goal',\n",
       "       'launched', 'pledged', 'state', 'backers', 'country', 'usd pledged',\n",
       "       'usd_pledged_real', 'usd_goal_real', 'succes'],\n",
       "      dtype='object')"
      ]
     },
     "execution_count": 41,
     "metadata": {},
     "output_type": "execute_result"
    }
   ],
   "source": [
    "df.columns"
   ]
  },
  {
   "cell_type": "code",
   "execution_count": 123,
   "metadata": {},
   "outputs": [
    {
     "data": {
      "text/plain": [
       "<matplotlib.axes._subplots.AxesSubplot at 0x1a64028400>"
      ]
     },
     "execution_count": 123,
     "metadata": {},
     "output_type": "execute_result"
    },
    {
     "data": {
      "text/plain": [
       "<Figure size 1440x1440 with 0 Axes>"
      ]
     },
     "metadata": {},
     "output_type": "display_data"
    },
    {
     "data": {
      "image/png": "[encoded data removed]",
      "text/plain": [
       "<Figure size 432x288 with 1 Axes>"
      ]
     },
     "metadata": {
      "needs_background": "light"
     },
     "output_type": "display_data"
    }
   ],
   "source": [
    "df.plot.scatter(title='Succès fonction du pledged',x='pledged',y='succes',c='blue')"
   ]
  },
  {
   "cell_type": "markdown",
   "metadata": {},
   "source": [
    "## Analyse des dates / deadlines"
   ]
  },
  {
   "cell_type": "code",
   "execution_count": 46,
   "metadata": {},
   "outputs": [
    {
     "data": {
      "text/plain": [
       "<matplotlib.axes._subplots.AxesSubplot at 0x1a1cdea5c0>"
      ]
     },
     "execution_count": 46,
     "metadata": {},
     "output_type": "execute_result"
    },
    {
     "data": {
      "image/png": "[encoded data removed]",
      "text/plain": [
       "<Figure size 432x288 with 1 Axes>"
      ]
     },
     "metadata": {
      "needs_background": "light"
     },
     "output_type": "display_data"
    }
   ],
   "source": [
    "df.launched.str.contains(\"-07-\").value_counts().plot.bar() #pour le mois de juillet"
   ]
  },
  {
   "cell_type": "code",
   "execution_count": 22,
   "metadata": {},
   "outputs": [
    {
     "data": {
      "text/plain": [
       "Text(0.5,1,\" Nb projet launch dans la période de l'année 2013\")"
      ]
     },
     "execution_count": 22,
     "metadata": {},
     "output_type": "execute_result"
    },
    {
     "data": {
      "image/png": "[encoded data removed]",
      "text/plain": [
       "<Figure size 432x288 with 1 Axes>"
      ]
     },
     "metadata": {
      "needs_background": "light"
     },
     "output_type": "display_data"
    }
   ],
   "source": [
    "df.launched.str.contains(\"2013-\").value_counts().plot.bar()\n",
    "plt.title(' Nb projet launch dans la période de l\\'année 2013')"
   ]
  },
  {
   "cell_type": "code",
   "execution_count": 48,
   "metadata": {},
   "outputs": [
    {
     "data": {
      "text/plain": [
       "False    334483\n",
       "True      44178\n",
       "Name: deadline, dtype: int64"
      ]
     },
     "execution_count": 48,
     "metadata": {},
     "output_type": "execute_result"
    }
   ],
   "source": [
    "df.deadline.str.contains(\"2013\").value_counts()"
   ]
  },
  {
   "cell_type": "code",
   "execution_count": 21,
   "metadata": {},
   "outputs": [
    {
     "data": {
      "text/plain": [
       "Text(0.5,1,\" Nb projet launch dans la période de l'année 2014\")"
      ]
     },
     "execution_count": 21,
     "metadata": {},
     "output_type": "execute_result"
    },
    {
     "data": {
      "image/png": "[encoded data removed]",
      "text/plain": [
       "<Figure size 432x288 with 1 Axes>"
      ]
     },
     "metadata": {
      "needs_background": "light"
     },
     "output_type": "display_data"
    }
   ],
   "source": [
    "df.launched.str.contains(\"2014\").value_counts().plot.bar()\n",
    "plt.title(' Nb projet launch dans la période de l\\'année 2014')"
   ]
  },
  {
   "cell_type": "code",
   "execution_count": 50,
   "metadata": {},
   "outputs": [
    {
     "data": {
      "text/plain": [
       "False    312430\n",
       "True      66231\n",
       "Name: deadline, dtype: int64"
      ]
     },
     "execution_count": 50,
     "metadata": {},
     "output_type": "execute_result"
    }
   ],
   "source": [
    "df.deadline.str.contains(\"2014\").value_counts()"
   ]
  },
  {
   "cell_type": "code",
   "execution_count": 18,
   "metadata": {},
   "outputs": [
    {
     "data": {
      "text/plain": [
       "Text(0.5,1,\" Nb projet launch dans la période de l'année 2015\")"
      ]
     },
     "execution_count": 18,
     "metadata": {},
     "output_type": "execute_result"
    },
    {
     "data": {
      "image/png": "[encoded data removed]",
      "text/plain": [
       "<Figure size 432x288 with 1 Axes>"
      ]
     },
     "metadata": {
      "needs_background": "light"
     },
     "output_type": "display_data"
    }
   ],
   "source": [
    "df.launched.str.contains(\"2015\").value_counts().plot.bar()\n",
    "plt.title(' Nb projet launch dans la période de l\\'année 2015')"
   ]
  },
  {
   "cell_type": "code",
   "execution_count": 20,
   "metadata": {},
   "outputs": [
    {
     "data": {
      "text/plain": [
       "False    301163\n",
       "True      77498\n",
       "Name: deadline, dtype: int64"
      ]
     },
     "execution_count": 20,
     "metadata": {},
     "output_type": "execute_result"
    }
   ],
   "source": [
    "df.deadline.str.contains(\"2015\").value_counts()"
   ]
  },
  {
   "cell_type": "markdown",
   "metadata": {},
   "source": [
    "Grâce à cette analyse on remarque qu'il y a énormément de deadline en 2015."
   ]
  },
  {
   "cell_type": "code",
   "execution_count": null,
   "metadata": {},
   "outputs": [],
   "source": [
    "#df[\"deadline\"] = df[\"deadline\"].str.replace(\"-\",\"\").str.replace(\":\",\"\")\n",
    "#df['deadline'] = pd.to_numeric(df['deadline']).plot.bar()"
   ]
  },
  {
   "cell_type": "code",
   "execution_count": 11,
   "metadata": {},
   "outputs": [
    {
     "data": {
      "text/plain": [
       "2015-01-21 14:42:22    2\n",
       "2014-01-22 21:40:58    2\n",
       "2013-01-24 18:04:18    2\n",
       "2013-01-04 06:24:35    2\n",
       "2017-01-29 00:08:04    2\n",
       "2015-01-21 04:03:53    2\n",
       "2011-01-14 21:32:43    1\n",
       "2016-01-29 14:58:55    1\n",
       "2016-01-22 19:05:51    1\n",
       "2011-01-20 23:19:00    1\n",
       "2016-01-07 19:00:19    1\n",
       "2015-01-30 16:59:15    1\n",
       "2015-01-29 20:55:43    1\n",
       "2016-01-06 22:18:01    1\n",
       "2012-01-27 21:21:22    1\n",
       "2013-01-11 18:40:58    1\n",
       "2017-01-19 05:17:37    1\n",
       "2014-01-16 07:49:17    1\n",
       "2015-01-28 08:14:54    1\n",
       "2017-01-01 20:30:18    1\n",
       "2012-01-25 22:25:40    1\n",
       "2014-01-24 00:02:47    1\n",
       "2012-01-12 13:45:12    1\n",
       "2013-01-06 19:33:29    1\n",
       "2012-01-18 17:52:48    1\n",
       "2013-01-03 14:05:00    1\n",
       "2011-01-01 04:59:50    1\n",
       "2011-01-28 01:52:34    1\n",
       "2012-01-29 18:39:35    1\n",
       "2014-01-30 10:12:20    1\n",
       "                      ..\n",
       "2017-01-06 16:44:41    1\n",
       "2013-01-30 05:12:31    1\n",
       "2012-01-12 20:12:27    1\n",
       "2011-01-04 22:47:04    1\n",
       "2013-01-24 22:01:02    1\n",
       "2017-01-25 03:18:37    1\n",
       "2014-01-13 21:42:45    1\n",
       "2015-01-21 02:56:12    1\n",
       "2012-01-31 12:55:37    1\n",
       "2012-01-31 17:40:43    1\n",
       "2014-01-09 10:59:48    1\n",
       "2012-01-02 19:31:12    1\n",
       "2013-01-01 06:30:19    1\n",
       "2016-01-24 03:23:30    1\n",
       "2013-01-29 22:51:07    1\n",
       "2017-01-10 19:55:32    1\n",
       "2012-01-22 22:19:19    1\n",
       "2012-01-27 22:44:57    1\n",
       "2011-01-31 06:11:47    1\n",
       "2017-01-31 22:08:09    1\n",
       "2015-01-29 10:34:03    1\n",
       "2017-01-27 17:32:03    1\n",
       "2014-01-24 23:48:03    1\n",
       "2012-01-02 10:24:36    1\n",
       "2011-01-12 08:16:06    1\n",
       "2017-01-24 18:00:09    1\n",
       "2016-01-21 05:54:56    1\n",
       "2012-01-31 19:06:08    1\n",
       "2015-01-02 21:15:35    1\n",
       "2016-01-23 20:19:10    1\n",
       "Name: launched, Length: 9474, dtype: int64"
      ]
     },
     "execution_count": 11,
     "metadata": {},
     "output_type": "execute_result"
    }
   ],
   "source": [
    "df[df.launched.str.contains('-01-') & df.succes == 1].launched.value_counts()"
   ]
  },
  {
   "cell_type": "markdown",
   "metadata": {},
   "source": [
    "## Ajout de la colonne launch_month"
   ]
  },
  {
   "cell_type": "code",
   "execution_count": null,
   "metadata": {},
   "outputs": [],
   "source": [
    "#df.insert(column = 'launch_month', value = 0,loc =15) #Je rajoute une column succes à la 15ème place\n",
    "#df.launched[df.launched == 'xMOIS']= xMOIS"
   ]
  },
  {
   "cell_type": "markdown",
   "metadata": {},
   "source": [
    "L'idée est de rajouter une colonne launch_month comme j'ai fait avec succès mais ici on va interpréter le mois pour avoir un int à la place d'un string ce qui va être utile lors de son utilisation."
   ]
  },
  {
   "cell_type": "markdown",
   "metadata": {},
   "source": [
    "## Rapport entre la durée du projet et la catégorie"
   ]
  },
  {
   "cell_type": "code",
   "execution_count": 156,
   "metadata": {},
   "outputs": [],
   "source": [
    "#df"
   ]
  },
  {
   "cell_type": "code",
   "execution_count": 36,
   "metadata": {},
   "outputs": [],
   "source": [
    "df['deadline']=pd.to_datetime(df['deadline'], format=\"%Y/%m/%d\").dt.date\n",
    "df['launched']=pd.to_datetime(df['launched'], format=\"%Y/%m/%d\").dt.date\n",
    "df['duration(days)'] = (df['deadline'] - df['launched']).dt.days"
   ]
  },
  {
   "cell_type": "markdown",
   "metadata": {},
   "source": [
    "Ici, j'effectue une soustraction de la deadline et la date du début pour avoir la durée totale du projet."
   ]
  },
  {
   "cell_type": "code",
   "execution_count": 153,
   "metadata": {},
   "outputs": [
    {
     "data": {
      "text/plain": [
       "Text(0.5,1,'La durée du projet pour chaque catégorie')"
      ]
     },
     "execution_count": 153,
     "metadata": {},
     "output_type": "execute_result"
    },
    {
     "data": {
      "image/png": "[encoded data removed]",
      "text/plain": [
       "<Figure size 1296x504 with 1 Axes>"
      ]
     },
     "metadata": {
      "needs_background": "light"
     },
     "output_type": "display_data"
    }
   ],
   "source": [
    "plt.subplots(figsize=(18,7))\n",
    "sns.barplot(y='main_category', x='duration(days)', hue='succes', data=df)\n",
    "plt.title('La durée du projet pour chaque catégorie')"
   ]
  },
  {
   "cell_type": "markdown",
   "metadata": {},
   "source": [
    "## Moyenne des succès par catégorie"
   ]
  },
  {
   "cell_type": "code",
   "execution_count": 27,
   "metadata": {},
   "outputs": [],
   "source": [
    "successful = df.loc[df.state=='successful']"
   ]
  },
  {
   "cell_type": "code",
   "execution_count": 29,
   "metadata": {},
   "outputs": [
    {
     "data": {
      "text/html": [
       "<div>\n",
       "<style scoped>\n",
       "    .dataframe tbody tr th:only-of-type {\n",
       "        vertical-align: middle;\n",
       "    }\n",
       "\n",
       "    .dataframe tbody tr th {\n",
       "        vertical-align: top;\n",
       "    }\n",
       "\n",
       "    .dataframe thead th {\n",
       "        text-align: right;\n",
       "    }\n",
       "</style>\n",
       "<table border=\"1\" class=\"dataframe\">\n",
       "  <thead>\n",
       "    <tr style=\"text-align: right;\">\n",
       "      <th></th>\n",
       "      <th>goal</th>\n",
       "      <th>pledged</th>\n",
       "      <th>backers</th>\n",
       "      <th>usd pledged</th>\n",
       "      <th>usd_pledged_real</th>\n",
       "      <th>usd_goal_real</th>\n",
       "      <th>succes</th>\n",
       "      <th>launch_year</th>\n",
       "    </tr>\n",
       "    <tr>\n",
       "      <th>main_category</th>\n",
       "      <th></th>\n",
       "      <th></th>\n",
       "      <th></th>\n",
       "      <th></th>\n",
       "      <th></th>\n",
       "      <th></th>\n",
       "      <th></th>\n",
       "      <th></th>\n",
       "    </tr>\n",
       "  </thead>\n",
       "  <tbody>\n",
       "    <tr>\n",
       "      <th>Art</th>\n",
       "      <td>4642.114081</td>\n",
       "      <td>7836.474882</td>\n",
       "      <td>90.358123</td>\n",
       "      <td>5420.993262</td>\n",
       "      <td>6971.894850</td>\n",
       "      <td>4410.086374</td>\n",
       "      <td>1.0</td>\n",
       "      <td>2013.898002</td>\n",
       "    </tr>\n",
       "    <tr>\n",
       "      <th>Comics</th>\n",
       "      <td>5693.607838</td>\n",
       "      <td>11902.964118</td>\n",
       "      <td>231.404314</td>\n",
       "      <td>9178.678422</td>\n",
       "      <td>11385.660235</td>\n",
       "      <td>5397.352176</td>\n",
       "      <td>1.0</td>\n",
       "      <td>2014.642759</td>\n",
       "    </tr>\n",
       "    <tr>\n",
       "      <th>Crafts</th>\n",
       "      <td>3539.475650</td>\n",
       "      <td>7022.015139</td>\n",
       "      <td>94.148463</td>\n",
       "      <td>4053.917054</td>\n",
       "      <td>5629.696889</td>\n",
       "      <td>3013.430794</td>\n",
       "      <td>1.0</td>\n",
       "      <td>2014.863357</td>\n",
       "    </tr>\n",
       "    <tr>\n",
       "      <th>Dance</th>\n",
       "      <td>4941.846497</td>\n",
       "      <td>5550.954380</td>\n",
       "      <td>63.396065</td>\n",
       "      <td>4445.787994</td>\n",
       "      <td>5194.016121</td>\n",
       "      <td>4601.094769</td>\n",
       "      <td>1.0</td>\n",
       "      <td>2013.555603</td>\n",
       "    </tr>\n",
       "    <tr>\n",
       "      <th>Design</th>\n",
       "      <td>17869.363175</td>\n",
       "      <td>69272.926059</td>\n",
       "      <td>614.783791</td>\n",
       "      <td>43550.117152</td>\n",
       "      <td>62858.524147</td>\n",
       "      <td>15408.835300</td>\n",
       "      <td>1.0</td>\n",
       "      <td>2014.861991</td>\n",
       "    </tr>\n",
       "    <tr>\n",
       "      <th>Fashion</th>\n",
       "      <td>10527.923923</td>\n",
       "      <td>23219.932871</td>\n",
       "      <td>217.001252</td>\n",
       "      <td>15136.854025</td>\n",
       "      <td>20286.555534</td>\n",
       "      <td>9080.955291</td>\n",
       "      <td>1.0</td>\n",
       "      <td>2014.715716</td>\n",
       "    </tr>\n",
       "    <tr>\n",
       "      <th>Film &amp; Video</th>\n",
       "      <td>11486.109404</td>\n",
       "      <td>14380.737041</td>\n",
       "      <td>152.560428</td>\n",
       "      <td>12409.068566</td>\n",
       "      <td>13951.872429</td>\n",
       "      <td>11145.188408</td>\n",
       "      <td>1.0</td>\n",
       "      <td>2013.385599</td>\n",
       "    </tr>\n",
       "    <tr>\n",
       "      <th>Food</th>\n",
       "      <td>12177.780807</td>\n",
       "      <td>18039.985200</td>\n",
       "      <td>180.557929</td>\n",
       "      <td>14227.414871</td>\n",
       "      <td>17349.390516</td>\n",
       "      <td>11633.962945</td>\n",
       "      <td>1.0</td>\n",
       "      <td>2014.204601</td>\n",
       "    </tr>\n",
       "    <tr>\n",
       "      <th>Games</th>\n",
       "      <td>15280.369228</td>\n",
       "      <td>56018.565317</td>\n",
       "      <td>814.384087</td>\n",
       "      <td>41643.054423</td>\n",
       "      <td>54228.755136</td>\n",
       "      <td>14857.224807</td>\n",
       "      <td>1.0</td>\n",
       "      <td>2014.913964</td>\n",
       "    </tr>\n",
       "    <tr>\n",
       "      <th>Journalism</th>\n",
       "      <td>9818.032045</td>\n",
       "      <td>12728.778745</td>\n",
       "      <td>152.306324</td>\n",
       "      <td>8598.269387</td>\n",
       "      <td>10344.950316</td>\n",
       "      <td>8148.647846</td>\n",
       "      <td>1.0</td>\n",
       "      <td>2014.076087</td>\n",
       "    </tr>\n",
       "    <tr>\n",
       "      <th>Music</th>\n",
       "      <td>5928.511495</td>\n",
       "      <td>7543.683579</td>\n",
       "      <td>102.185354</td>\n",
       "      <td>6307.095057</td>\n",
       "      <td>7338.132395</td>\n",
       "      <td>5736.980040</td>\n",
       "      <td>1.0</td>\n",
       "      <td>2013.292061</td>\n",
       "    </tr>\n",
       "    <tr>\n",
       "      <th>Photography</th>\n",
       "      <td>6644.391955</td>\n",
       "      <td>10296.176714</td>\n",
       "      <td>108.746445</td>\n",
       "      <td>7897.056082</td>\n",
       "      <td>10111.690306</td>\n",
       "      <td>6490.599673</td>\n",
       "      <td>1.0</td>\n",
       "      <td>2013.808775</td>\n",
       "    </tr>\n",
       "    <tr>\n",
       "      <th>Publishing</th>\n",
       "      <td>6427.316163</td>\n",
       "      <td>10204.198186</td>\n",
       "      <td>158.823089</td>\n",
       "      <td>7257.911788</td>\n",
       "      <td>9436.910726</td>\n",
       "      <td>5897.848654</td>\n",
       "      <td>1.0</td>\n",
       "      <td>2014.194959</td>\n",
       "    </tr>\n",
       "    <tr>\n",
       "      <th>Technology</th>\n",
       "      <td>28334.819035</td>\n",
       "      <td>98603.649686</td>\n",
       "      <td>717.678738</td>\n",
       "      <td>67237.094112</td>\n",
       "      <td>93085.762218</td>\n",
       "      <td>26286.354186</td>\n",
       "      <td>1.0</td>\n",
       "      <td>2014.870998</td>\n",
       "    </tr>\n",
       "    <tr>\n",
       "      <th>Theater</th>\n",
       "      <td>5329.732612</td>\n",
       "      <td>6113.351310</td>\n",
       "      <td>70.505663</td>\n",
       "      <td>5289.165826</td>\n",
       "      <td>5973.134904</td>\n",
       "      <td>5198.043532</td>\n",
       "      <td>1.0</td>\n",
       "      <td>2013.381084</td>\n",
       "    </tr>\n",
       "  </tbody>\n",
       "</table>\n",
       "</div>"
      ],
      "text/plain": [
       "                       goal       pledged     backers   usd pledged  \\\n",
       "main_category                                                         \n",
       "Art             4642.114081   7836.474882   90.358123   5420.993262   \n",
       "Comics          5693.607838  11902.964118  231.404314   9178.678422   \n",
       "Crafts          3539.475650   7022.015139   94.148463   4053.917054   \n",
       "Dance           4941.846497   5550.954380   63.396065   4445.787994   \n",
       "Design         17869.363175  69272.926059  614.783791  43550.117152   \n",
       "Fashion        10527.923923  23219.932871  217.001252  15136.854025   \n",
       "Film & Video   11486.109404  14380.737041  152.560428  12409.068566   \n",
       "Food           12177.780807  18039.985200  180.557929  14227.414871   \n",
       "Games          15280.369228  56018.565317  814.384087  41643.054423   \n",
       "Journalism      9818.032045  12728.778745  152.306324   8598.269387   \n",
       "Music           5928.511495   7543.683579  102.185354   6307.095057   \n",
       "Photography     6644.391955  10296.176714  108.746445   7897.056082   \n",
       "Publishing      6427.316163  10204.198186  158.823089   7257.911788   \n",
       "Technology     28334.819035  98603.649686  717.678738  67237.094112   \n",
       "Theater         5329.732612   6113.351310   70.505663   5289.165826   \n",
       "\n",
       "               usd_pledged_real  usd_goal_real  succes  launch_year  \n",
       "main_category                                                        \n",
       "Art                 6971.894850    4410.086374     1.0  2013.898002  \n",
       "Comics             11385.660235    5397.352176     1.0  2014.642759  \n",
       "Crafts              5629.696889    3013.430794     1.0  2014.863357  \n",
       "Dance               5194.016121    4601.094769     1.0  2013.555603  \n",
       "Design             62858.524147   15408.835300     1.0  2014.861991  \n",
       "Fashion            20286.555534    9080.955291     1.0  2014.715716  \n",
       "Film & Video       13951.872429   11145.188408     1.0  2013.385599  \n",
       "Food               17349.390516   11633.962945     1.0  2014.204601  \n",
       "Games              54228.755136   14857.224807     1.0  2014.913964  \n",
       "Journalism         10344.950316    8148.647846     1.0  2014.076087  \n",
       "Music               7338.132395    5736.980040     1.0  2013.292061  \n",
       "Photography        10111.690306    6490.599673     1.0  2013.808775  \n",
       "Publishing          9436.910726    5897.848654     1.0  2014.194959  \n",
       "Technology         93085.762218   26286.354186     1.0  2014.870998  \n",
       "Theater             5973.134904    5198.043532     1.0  2013.381084  "
      ]
     },
     "execution_count": 29,
     "metadata": {},
     "output_type": "execute_result"
    }
   ],
   "source": [
    "groupby_main_category = successful.groupby(['main_category']).mean()\n",
    "groupby_main_category"
   ]
  },
  {
   "cell_type": "markdown",
   "metadata": {},
   "source": [
    "## Analyse rapide "
   ]
  },
  {
   "cell_type": "code",
   "execution_count": 140,
   "metadata": {},
   "outputs": [
    {
     "data": {
      "text/plain": [
       "Text(0.5,1,'Nombre de backers en fonction de la catégorie')"
      ]
     },
     "execution_count": 140,
     "metadata": {},
     "output_type": "execute_result"
    },
    {
     "data": {
      "image/png": "[encoded data removed]",
      "text/plain": [
       "<Figure size 1296x504 with 1 Axes>"
      ]
     },
     "metadata": {
      "needs_background": "light"
     },
     "output_type": "display_data"
    }
   ],
   "source": [
    "plt.subplots(figsize=(18,7))\n",
    "sns.barplot(x = 'main_category', y = 'backers',data=df)\n",
    "plt.title('Nombre de backers en fonction de la catégorie')"
   ]
  },
  {
   "cell_type": "markdown",
   "metadata": {},
   "source": [
    "Cette analyse a déjà été faite plus haut mais je me suis rendu compte que les catégories les plus importantes (dance , théâtre et comic) n'avaient pas les meilleurs taux de réussite.\n",
    "En calculant la moyenne de chaque catégorie on peut remarquer que le \"goal\" des 3 plus importantes catégories à savoir dance, théâtre et comic sont très faible par rapport aux autres et c'est pourquoi Games, Design et Technology passent devant eux."
   ]
  },
  {
   "cell_type": "code",
   "execution_count": 143,
   "metadata": {},
   "outputs": [
    {
     "data": {
      "text/plain": [
       "<matplotlib.axes._subplots.AxesSubplot at 0x1a6bc91358>"
      ]
     },
     "execution_count": 143,
     "metadata": {},
     "output_type": "execute_result"
    },
    {
     "data": {
      "image/png": "[encoded data removed]",
      "text/plain": [
       "<Figure size 432x288 with 1 Axes>"
      ]
     },
     "metadata": {
      "needs_background": "light"
     },
     "output_type": "display_data"
    }
   ],
   "source": [
    "sns.scatterplot(x=\"goal\", y=\"pledged\", data=df[df.main_category == 'Dance'])\n"
   ]
  },
  {
   "cell_type": "code",
   "execution_count": 138,
   "metadata": {},
   "outputs": [
    {
     "data": {
      "text/plain": [
       "<matplotlib.axes._subplots.AxesSubplot at 0x1a70b394e0>"
      ]
     },
     "execution_count": 138,
     "metadata": {},
     "output_type": "execute_result"
    },
    {
     "data": {
      "image/png": "[encoded data removed]",
      "text/plain": [
       "<Figure size 432x288 with 1 Axes>"
      ]
     },
     "metadata": {
      "needs_background": "light"
     },
     "output_type": "display_data"
    }
   ],
   "source": [
    "sns.scatterplot(x=\"goal\", y=\"pledged\", data=df[df.main_category == 'Games'])\n"
   ]
  },
  {
   "cell_type": "code",
   "execution_count": 145,
   "metadata": {},
   "outputs": [
    {
     "data": {
      "text/plain": [
       "Text(0.5,1,'Le goal amount USD en fcontion des USD pldeged')"
      ]
     },
     "execution_count": 145,
     "metadata": {},
     "output_type": "execute_result"
    },
    {
     "data": {
      "image/png": "[encoded data removed]",
      "text/plain": [
       "<Figure size 1296x504 with 1 Axes>"
      ]
     },
     "metadata": {
      "needs_background": "light"
     },
     "output_type": "display_data"
    }
   ],
   "source": [
    "plt.subplots(figsize=(18,7))\n",
    "sns.scatterplot(x='usd_goal_real',y='usd_pledged_real',data=df)\n",
    "plt.title('Le goal amount USD en fcontion des USD pldeged')"
   ]
  },
  {
   "cell_type": "code",
   "execution_count": null,
   "metadata": {
    "scrolled": true
   },
   "outputs": [],
   "source": [
    "#sns.pairplot(df, vars=[\"goal\", \"backers\"] , hue='succes')\n",
    "#sns.pairplot(df)"
   ]
  },
  {
   "cell_type": "code",
   "execution_count": 160,
   "metadata": {},
   "outputs": [
    {
     "data": {
      "text/plain": [
       "Text(0.5,1,' Barplot croisant les backers et les currency')"
      ]
     },
     "execution_count": 160,
     "metadata": {},
     "output_type": "execute_result"
    },
    {
     "data": {
      "image/png": "[encoded data removed]",
      "text/plain": [
       "<Figure size 432x288 with 1 Axes>"
      ]
     },
     "metadata": {
      "needs_background": "light"
     },
     "output_type": "display_data"
    }
   ],
   "source": [
    "sns.barplot(x='backers',y='currency',data=df)\n",
    "plt.title('Barplot croisant les backers et les currency')"
   ]
  },
  {
   "cell_type": "markdown",
   "metadata": {},
   "source": [
    "## Conclusion\n",
    " - On peut supposer que de lancer un projet aux Etat-Unis est préférable mais il faut savoir que quasiment tous les projets commencent la bas. Il faut aussi prendre en compte que l'influence est dû aux grands nombres de personnes qu'il y a et que ça pourrait alors influencer sur le choix.\n",
    " - Comme on a pu le voir il est pas nécessaire de prendre les catégories les plus importants car il faudra ensuite faire attention à son goal qui va beaucoup influencer sur le nombre de personnes."
   ]
  }
 ],
 "metadata": {
  "kernelspec": {
   "display_name": "Python 3",
   "language": "python",
   "name": "python3"
  },
  "language_info": {
   "codemirror_mode": {
    "name": "ipython",
    "version": 3
   },
   "file_extension": ".py",
   "mimetype": "text/x-python",
   "name": "python",
   "nbconvert_exporter": "python",
   "pygments_lexer": "ipython3",
   "version": "3.7.0"
  }
 },
 "nbformat": 4,
 "nbformat_minor": 2
}
